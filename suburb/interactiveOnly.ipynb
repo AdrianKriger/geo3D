{
 "cells": [
  {
   "cell_type": "markdown",
   "metadata": {},
   "source": [
    "### 3D City Models from Volunteered Public Data\n",
    "\n",
    "<div class=\"alert alert-block alert-warning\"><b>This notebook will:</b>\n",
    "\n",
    "> **1. produce an [interactive *pseudo-3D* Building Model visualization](#Section1)** *- via [pydeck](https://deckgl.readthedocs.io/en/latest/) - which a user can navigate, query, share* **that**;\n",
    "> > **i) [colour buildings by type](#Section1a)** *(to easily visualize building stock)*  \n",
    ">\n",
    "> **2. allow the user to execute an application of Spatial Data Science**  \n",
    ">\n",
    ">> **i)  [population estimation](#Section2a)** _--with a previous census metric population growth rate and projected (future) population are also possible_  **and**    \n",
    ">> **ii)  a measure of [Building Volume per Capita](#Section2b).**\n",
    ">\n",
    "> **3. propose several [Geography and Sustainable Development Education *conversation starters*](#Section3) for Secondary and Tertiary level students** \n",
    "\n",
    "</div>"
   ]
  },
  {
   "cell_type": "markdown",
   "metadata": {},
   "source": [
    "<div class=\"alert alert-block alert-danger\"><b></b>\n",
    "\n",
    "***The [suburb](https://github.com/AdrianKriger/geo3D/tree/main/suburb)*** processing option is meant for areas with more than for **2 500 buildings**.</div>"
   ]
  },
  {
   "cell_type": "code",
   "execution_count": 1,
   "metadata": {},
   "outputs": [],
   "source": [
    "#load the magic\n",
    "\n",
    "import time\n",
    "from datetime import timedelta\n",
    "\n",
    "%matplotlib inline\n",
    "\n",
    "import os\n",
    "\n",
    "import requests\n",
    "import overpass \n",
    "import osm2geojson\n",
    "\n",
    "import json\n",
    "import geojson\n",
    "import numpy as np\n",
    "import pandas as pd\n",
    "import geopandas as gpd\n",
    "import shapely\n",
    "from shapely.geometry import Polygon, shape, mapping\n",
    "from shapely.ops import transform\n",
    "import pyproj\n",
    "\n",
    "from osgeo import gdal, ogr, osr\n",
    "\n",
    "from openlocationcode import openlocationcode as olc\n",
    "\n",
    "import city3D\n",
    "\n",
    "import matplotlib.pyplot as plt\n",
    "import pydeck as pdk"
   ]
  },
  {
   "cell_type": "code",
   "execution_count": 2,
   "metadata": {},
   "outputs": [],
   "source": [
    "import warnings\n",
    "warnings.filterwarnings('ignore')"
   ]
  },
  {
   "cell_type": "code",
   "execution_count": 3,
   "metadata": {},
   "outputs": [],
   "source": [
    "#- where do we want to investigate? large= state or province, focus= suburb or census tract / ward\n",
    "large = 'Western Cape'\n",
    "focus =  'Woodstock'         # | 'Salt River' | 'Observatory' | 'University Estate'"
   ]
  },
  {
   "cell_type": "markdown",
   "metadata": {},
   "source": [
    "**Harvest [OpenStreetMap](https://en.wikipedia.org/wiki/OpenStreetMap)** - interogate an osm.pbf ([\"Protocolbuffer Binary Format\"](https://wiki.openstreetmap.org/wiki/PBF_Format)) from within Jupyter and convert to .geojson.\n",
    "\n",
    "<div class=\"alert alert-block alert-info\"><b></b> \n",
    "    \n",
    "**PLEASE SUPPLY YOUR OWN [osm.pbf](https://wiki.openstreetmap.org/wiki/PBF_Format).**  \n",
    "\n",
    "**Either crop an area directly from [OpenStreetMap]() with the ***[official tool](https://www.openstreetmap.org/export#map=3/0.70/22.15)***, select a predefined area [from any number of providers](https://wiki.openstreetmap.org/wiki/Planet.osm), such as ***[Geofabrik](https://download.geofabrik.de)***, or...**\n",
    "</div>"
   ]
  },
  {
   "cell_type": "markdown",
   "metadata": {},
   "source": [
    "<div class=\"alert alert-block alert-success\"><b></b>\n",
    "    \n",
    "**... download your own. Provincial extracts for South Africa are available here:** *http://download.openstreetmap.fr/extracts/africa/south_africa/*</div>"
   ]
  },
  {
   "cell_type": "code",
   "execution_count": 4,
   "metadata": {},
   "outputs": [],
   "source": [
    "# Input OSM PBF file\n",
    "input_pbf = \"./data/CapeTown.osm.pbf\"\n",
    "\n",
    "# GeoPackage file [will be created]\n",
    "#output_gpkg = \"./data/output_polygons.gpkg\" "
   ]
  },
  {
   "cell_type": "markdown",
   "metadata": {},
   "source": [
    "**[pydeck](https://deckgl.readthedocs.io/en/latest/) needs an area and a center**, harvest from osm."
   ]
  },
  {
   "cell_type": "code",
   "execution_count": 5,
   "metadata": {},
   "outputs": [
    {
     "data": {
      "text/html": [
       "<div>\n",
       "<style scoped>\n",
       "    .dataframe tbody tr th:only-of-type {\n",
       "        vertical-align: middle;\n",
       "    }\n",
       "\n",
       "    .dataframe tbody tr th {\n",
       "        vertical-align: top;\n",
       "    }\n",
       "\n",
       "    .dataframe thead th {\n",
       "        text-align: right;\n",
       "    }\n",
       "</style>\n",
       "<table border=\"1\" class=\"dataframe\">\n",
       "  <thead>\n",
       "    <tr style=\"text-align: right;\">\n",
       "      <th></th>\n",
       "      <th>geometry</th>\n",
       "      <th>type</th>\n",
       "      <th>id</th>\n",
       "      <th>tags</th>\n",
       "    </tr>\n",
       "  </thead>\n",
       "  <tbody>\n",
       "    <tr>\n",
       "      <th>0</th>\n",
       "      <td>MULTIPOLYGON (((18.43942 -33.93323, 18.43952 -...</td>\n",
       "      <td>relation</td>\n",
       "      <td>2034285</td>\n",
       "      <td>{'boundary': 'place', 'name': 'Woodstock', 'pl...</td>\n",
       "    </tr>\n",
       "  </tbody>\n",
       "</table>\n",
       "</div>"
      ],
      "text/plain": [
       "                                            geometry  ...                                               tags\n",
       "0  MULTIPOLYGON (((18.43942 -33.93323, 18.43952 -...  ...  {'boundary': 'place', 'name': 'Woodstock', 'pl...\n",
       "\n",
       "[1 rows x 4 columns]"
      ]
     },
     "execution_count": 5,
     "metadata": {},
     "output_type": "execute_result"
    }
   ],
   "source": [
    "#- get the area [suburb]\n",
    "query = \"\"\"[out:json][timeout:30];\n",
    "        area[boundary=administrative][name='{0}'] -> .a;\n",
    "        (\n",
    "        way[amenity='university'][name='{1}'](area.a);\n",
    "        relation[place][place~\"sub|town|city|count|state|village|borough|quarter|neighbourhood\"][name='{1}'](area.a);\n",
    "        );\n",
    "        out geom;\n",
    "        \"\"\".format(large, focus)\n",
    "\n",
    "url = \"http://overpass-api.de/api/interpreter\"\n",
    "r = requests.get(url, params={'data': query})\n",
    "#rr = r.read()\n",
    "area = osm2geojson.json2geojson(r.json())\n",
    "#read into .gpd\n",
    "aoi = gpd.GeoDataFrame.from_features(area['features'])\n",
    "\n",
    "# drop rows where geometry is None or NaN\n",
    "aoi = aoi.dropna(subset=['geometry'])\n",
    "aoi = aoi.set_crs(4326, allow_override=True)\n",
    "\n",
    "# gt the bounding box (BBOX) of the GeoJSON boundary\n",
    "minx, miny, maxx, maxy = aoi.total_bounds\n",
    "bbox_filter = \"-spat\", str(minx), str(miny), str(maxx), str(maxy)\n",
    "\n",
    "aoi.head(2)"
   ]
  },
  {
   "cell_type": "markdown",
   "metadata": {},
   "source": [
    "**Only harvest what we need from the osm.pbf.**"
   ]
  },
  {
   "cell_type": "code",
   "execution_count": 6,
   "metadata": {},
   "outputs": [
    {
     "name": "stdout",
     "output_type": "stream",
     "text": [
      "runtime: 0:00:01.629136\n"
     ]
    }
   ],
   "source": [
    "start = time.time()\n",
    "\n",
    "gdal.UseExceptions()\n",
    "gdal.SetConfigOption(\"OGR_GEOMETRY_ACCEPT_UNCLOSED_RING\", \"NO\") \n",
    "#gdal.SetConfigOption(\"USE_CUSTOM_INDEXING\", \"NO\")\n",
    "# Input OSM PBF file\n",
    "#input_pbf = \"your_data.osm.pbf\"\n",
    "\n",
    "# GDAL Virtual File System (VSI) to avoid writing to disk\n",
    "geojson_vsimem = \"/vsimem/temp.geojson\"\n",
    "\n",
    "#- GDAL VectorTranslate to extract only buildings & fix geometries\n",
    "gdal.VectorTranslate(\n",
    "    geojson_vsimem,                                           # Output as in-memory GeoJSON\n",
    "    input_pbf,                                                # Source OSM PBF file\n",
    "    format=\"GeoJSON\",                                         # Output format\n",
    "    layers=[\"multipolygons\"],                                 # Extract only multipolygons\n",
    "    options=[\"-where\", \"building IS NOT NULL\", \"-makevalid\", \n",
    "             \"-spat\", str(minx), str(miny), str(maxx), str(maxy)]  # Filter buildings & fix geometries\n",
    ")\n",
    "\n",
    "#- load into GeoDataFrame\n",
    "gdf = gpd.read_file(geojson_vsimem)\n",
    "\n",
    "#- cleanup VSI Memory\n",
    "gdal.Unlink(geojson_vsimem)\n",
    "\n",
    "# show gdf\n",
    "#gdf.head(2)\n",
    "\n",
    "end = time.time()\n",
    "print('runtime:', str(timedelta(seconds=(end - start))))"
   ]
  },
  {
   "cell_type": "code",
   "execution_count": 7,
   "metadata": {},
   "outputs": [],
   "source": [
    "#gdf.head(2)\n",
    "#gdf.plot()"
   ]
  },
  {
   "cell_type": "markdown",
   "metadata": {},
   "source": [
    "**harvest `building=*` from your focus area**"
   ]
  },
  {
   "cell_type": "code",
   "execution_count": 8,
   "metadata": {},
   "outputs": [
    {
     "data": {
      "text/html": [
       "<div>\n",
       "<style scoped>\n",
       "    .dataframe tbody tr th:only-of-type {\n",
       "        vertical-align: middle;\n",
       "    }\n",
       "\n",
       "    .dataframe tbody tr th {\n",
       "        vertical-align: top;\n",
       "    }\n",
       "\n",
       "    .dataframe thead th {\n",
       "        text-align: right;\n",
       "    }\n",
       "</style>\n",
       "<table border=\"1\" class=\"dataframe\">\n",
       "  <thead>\n",
       "    <tr style=\"text-align: right;\">\n",
       "      <th></th>\n",
       "      <th>osm_id</th>\n",
       "      <th>osm_way_id</th>\n",
       "      <th>name</th>\n",
       "      <th>type</th>\n",
       "      <th>amenity</th>\n",
       "      <th>building</th>\n",
       "      <th>craft</th>\n",
       "      <th>historic</th>\n",
       "      <th>leisure</th>\n",
       "      <th>man_made</th>\n",
       "      <th>office</th>\n",
       "      <th>shop</th>\n",
       "      <th>sport</th>\n",
       "      <th>tourism</th>\n",
       "      <th>other_tags</th>\n",
       "      <th>geometry</th>\n",
       "      <th>tags</th>\n",
       "      <th>building:levels</th>\n",
       "      <th>building:part</th>\n",
       "      <th>building:use</th>\n",
       "      <th>residential</th>\n",
       "    </tr>\n",
       "  </thead>\n",
       "  <tbody>\n",
       "    <tr>\n",
       "      <th>1</th>\n",
       "      <td>12227309</td>\n",
       "      <td>NaN</td>\n",
       "      <td>The Neighbourgoods Market</td>\n",
       "      <td>multipolygon</td>\n",
       "      <td>marketplace</td>\n",
       "      <td>retail</td>\n",
       "      <td>NaN</td>\n",
       "      <td>NaN</td>\n",
       "      <td>NaN</td>\n",
       "      <td>NaN</td>\n",
       "      <td>NaN</td>\n",
       "      <td>NaN</td>\n",
       "      <td>NaN</td>\n",
       "      <td>NaN</td>\n",
       "      <td>\"addr:city\"=&gt;\"Cape Town\",\"addr:suburb\"=&gt;\"Woods...</td>\n",
       "      <td>MULTIPOLYGON (((18.45801 -33.92731, 18.45853 -...</td>\n",
       "      <td>{'addr:city': 'Cape Town', 'addr:suburb': 'Woo...</td>\n",
       "      <td>1</td>\n",
       "      <td>None</td>\n",
       "      <td>None</td>\n",
       "      <td>None</td>\n",
       "    </tr>\n",
       "    <tr>\n",
       "      <th>2</th>\n",
       "      <td>12249345</td>\n",
       "      <td>NaN</td>\n",
       "      <td>Church  Square</td>\n",
       "      <td>multipolygon</td>\n",
       "      <td>NaN</td>\n",
       "      <td>apartments</td>\n",
       "      <td>NaN</td>\n",
       "      <td>NaN</td>\n",
       "      <td>NaN</td>\n",
       "      <td>NaN</td>\n",
       "      <td>NaN</td>\n",
       "      <td>NaN</td>\n",
       "      <td>NaN</td>\n",
       "      <td>NaN</td>\n",
       "      <td>\"addr:city\"=&gt;\"Woodstock, Cape Town\",\"addr:hous...</td>\n",
       "      <td>MULTIPOLYGON (((18.45082 -33.92792, 18.45086 -...</td>\n",
       "      <td>{'addr:city': 'Woodstock, Cape Town', 'addr:ho...</td>\n",
       "      <td>6</td>\n",
       "      <td>None</td>\n",
       "      <td>None</td>\n",
       "      <td>None</td>\n",
       "    </tr>\n",
       "  </tbody>\n",
       "</table>\n",
       "</div>"
      ],
      "text/plain": [
       "     osm_id osm_way_id  ... building:use residential\n",
       "1  12227309        NaN  ...         None        None\n",
       "2  12249345        NaN  ...         None        None\n",
       "\n",
       "[2 rows x 21 columns]"
      ]
     },
     "execution_count": 8,
     "metadata": {},
     "output_type": "execute_result"
    }
   ],
   "source": [
    "# Convert valid strings, ignore None/NaN\n",
    "def safe_convert(tag_string):\n",
    "    if isinstance(tag_string, str):\n",
    "        try:\n",
    "            # Replace \"=>\" with \":\" and fix newlines\n",
    "            formatted_string = \"{\" + tag_string.replace(\"=>\", \":\").replace(\"\\n\", \" \") + \"}\"\n",
    "            return json.loads(formatted_string)  # Parse safely\n",
    "        except json.JSONDecodeError:\n",
    "            return {}  # Return empty dict on failure\n",
    "    return {}  # Return empty dict if NaN or None\n",
    "\n",
    "# Apply conversion function\n",
    "gdf[\"tags\"] = gdf[\"other_tags\"].apply(safe_convert)\n",
    "\n",
    "# Extract values safely\n",
    "#gdf[\"building\"] = gdf[\"tags\"].apply(lambda d: d.get(\"building\", None) if isinstance(d, dict) else None)\n",
    "gdf[\"building:levels\"] = gdf[\"tags\"].apply(lambda d: d.get(\"building:levels\", None) if isinstance(d, dict) else None)\n",
    "gdf[\"building:part\"] = gdf[\"tags\"].apply(lambda d: d.get(\"building:part\", None) if isinstance(d, dict) else None)\n",
    "gdf[\"building:use\"] = gdf[\"tags\"].apply(lambda d: d.get(\"building:use\", None) if isinstance(d, dict) else None)\n",
    "gdf[\"residential\"] = gdf[\"tags\"].apply(lambda d: d.get(\"residential\", None) if isinstance(d, dict) else None)\n",
    "\n",
    "#- the total bounds of the aoi took more than necessary. remove the excess\n",
    "gdf = gdf[gdf.geometry.apply(lambda x: x.within(aoi.unary_union))]\n",
    "gdf.head(2)"
   ]
  },
  {
   "cell_type": "code",
   "execution_count": 9,
   "metadata": {},
   "outputs": [
    {
     "name": "stdout",
     "output_type": "stream",
     "text": [
      "\n",
      " 3796 buildings have been harvested from ./data/CapeTown.osm.pbf\n"
     ]
    }
   ],
   "source": [
    "ts = gdf[gdf['building'].notna()]\n",
    "#len(ts)\n",
    "print('\\n', len(ts), \"buildings have been harvested from\", input_pbf)"
   ]
  },
  {
   "cell_type": "code",
   "execution_count": 10,
   "metadata": {},
   "outputs": [
    {
     "name": "stdout",
     "output_type": "stream",
     "text": [
      "\n",
      "\u001b[1m Woodstock has\u001b[0m 3714 buildings\n"
     ]
    }
   ],
   "source": [
    "# basic cleaning to harvest building=* (no building:part=*) and building=levels tags only\n",
    "\n",
    "ts.dropna(subset=['building:levels'], inplace= True)\n",
    "ts['building:levels'] = pd.to_numeric(ts['building:levels'], downcast='integer')\n",
    "ts['building:levels'] = ts['building:levels'].astype(int)\n",
    "#- we only want buildings with =levels data\n",
    "ts = ts[ts['building:levels'] != 0]\n",
    "ts['building:levels'] = ts['building:levels'].replace('None', np.nan)#, inplace=True)\n",
    "ts = ts[ts['building:levels'].notna()]\n",
    "\n",
    "#- without building:part\n",
    "ts = ts[ts['building:part'].isnull()]\n",
    "ts = ts.explode(index_parts=True)\n",
    "print('\\n\\033[1m', focus, 'has\\033[0m',len(ts), 'buildings')"
   ]
  },
  {
   "cell_type": "code",
   "execution_count": 11,
   "metadata": {},
   "outputs": [],
   "source": [
    "#ts['building:levels'].unique()\n",
    "#ts['residential'].unique()\n",
    "#ts.head(2)"
   ]
  },
  {
   "cell_type": "markdown",
   "metadata": {},
   "source": [
    "<div class=\"alert alert-block alert-info\"><b>Craveat</b> \n",
    "    \n",
    "This community *(Woodstock, Salt River and Observatory)* is the second oldest community in South Africa. The buildings are old. Many have been repurposed. To account for refurbishment *--be as representative as possible--* and conform to the **[OpenStreetMap Guide](https://wiki.openstreetmap.org/wiki/Beginners%27_guide)** we typically tag these:  \n",
    "`building=*` *~ the original purpose* `+` `building:use=*` *~ the current use*.\n",
    "\n",
    "Furthermore; tagging in this community identifies **social housing, social facilities** (care home, shelter, etc.) **and informal housing** (backyard dwelling, shack, etc.) as `building / :use=residential`. **Student accomodation** includes the `residential=student` tag\n",
    "</div>"
   ]
  },
  {
   "cell_type": "code",
   "execution_count": 12,
   "metadata": {},
   "outputs": [],
   "source": [
    "#- to account for idiosyncratic mapping: replace building= (old function) if building:use= (new purpose) is present\n",
    "gdf2 = gdf.copy()\n",
    "\n",
    "#- 1\n",
    "df_res = gdf2[gdf2['building:use'] == 'residential']\n",
    "#df_res = gdf2[gdf2['building:use'] != None]\n",
    "df_res = df_res[~df_res['building:use'].isna()]\n",
    "gdf2.loc[df_res.index, 'building'] = df_res['building:use'] \n",
    "\n",
    "#- 2\n",
    "#gdf2 = gdf.copy()\n",
    "if 'residential' in gdf.columns:\n",
    "    df_res = gdf2[gdf2['residential'] == 'student']\n",
    "    #df_res = df2[df2['building:use'] != None]\n",
    "    df_res = df_res[~df_res['residential'].isna()]\n",
    "    gdf2.loc[df_res.index, 'building'] = df_res['residential'] "
   ]
  },
  {
   "cell_type": "code",
   "execution_count": 13,
   "metadata": {},
   "outputs": [
    {
     "data": {
      "text/html": [
       "<div>\n",
       "<style scoped>\n",
       "    .dataframe tbody tr th:only-of-type {\n",
       "        vertical-align: middle;\n",
       "    }\n",
       "\n",
       "    .dataframe tbody tr th {\n",
       "        vertical-align: top;\n",
       "    }\n",
       "\n",
       "    .dataframe thead th {\n",
       "        text-align: right;\n",
       "    }\n",
       "</style>\n",
       "<table border=\"1\" class=\"dataframe\">\n",
       "  <thead>\n",
       "    <tr style=\"text-align: right;\">\n",
       "      <th></th>\n",
       "      <th>osm_id</th>\n",
       "      <th>osm_way_id</th>\n",
       "      <th>name</th>\n",
       "      <th>type</th>\n",
       "      <th>amenity</th>\n",
       "      <th>building</th>\n",
       "      <th>craft</th>\n",
       "      <th>historic</th>\n",
       "      <th>leisure</th>\n",
       "      <th>man_made</th>\n",
       "      <th>office</th>\n",
       "      <th>shop</th>\n",
       "      <th>sport</th>\n",
       "      <th>tourism</th>\n",
       "      <th>other_tags</th>\n",
       "      <th>geometry</th>\n",
       "      <th>tags</th>\n",
       "      <th>building:levels</th>\n",
       "      <th>building:part</th>\n",
       "      <th>building:use</th>\n",
       "      <th>residential</th>\n",
       "    </tr>\n",
       "  </thead>\n",
       "  <tbody>\n",
       "    <tr>\n",
       "      <th>1</th>\n",
       "      <td>12227309</td>\n",
       "      <td>NaN</td>\n",
       "      <td>The Neighbourgoods Market</td>\n",
       "      <td>multipolygon</td>\n",
       "      <td>marketplace</td>\n",
       "      <td>retail</td>\n",
       "      <td>NaN</td>\n",
       "      <td>NaN</td>\n",
       "      <td>NaN</td>\n",
       "      <td>NaN</td>\n",
       "      <td>NaN</td>\n",
       "      <td>NaN</td>\n",
       "      <td>NaN</td>\n",
       "      <td>NaN</td>\n",
       "      <td>\"addr:city\"=&gt;\"Cape Town\",\"addr:suburb\"=&gt;\"Woods...</td>\n",
       "      <td>MULTIPOLYGON (((18.45801 -33.92731, 18.45853 -...</td>\n",
       "      <td>{'addr:city': 'Cape Town', 'addr:suburb': 'Woo...</td>\n",
       "      <td>1</td>\n",
       "      <td>None</td>\n",
       "      <td>None</td>\n",
       "      <td>None</td>\n",
       "    </tr>\n",
       "    <tr>\n",
       "      <th>2</th>\n",
       "      <td>12249345</td>\n",
       "      <td>NaN</td>\n",
       "      <td>Church  Square</td>\n",
       "      <td>multipolygon</td>\n",
       "      <td>NaN</td>\n",
       "      <td>apartments</td>\n",
       "      <td>NaN</td>\n",
       "      <td>NaN</td>\n",
       "      <td>NaN</td>\n",
       "      <td>NaN</td>\n",
       "      <td>NaN</td>\n",
       "      <td>NaN</td>\n",
       "      <td>NaN</td>\n",
       "      <td>NaN</td>\n",
       "      <td>\"addr:city\"=&gt;\"Woodstock, Cape Town\",\"addr:hous...</td>\n",
       "      <td>MULTIPOLYGON (((18.45082 -33.92792, 18.45086 -...</td>\n",
       "      <td>{'addr:city': 'Woodstock, Cape Town', 'addr:ho...</td>\n",
       "      <td>6</td>\n",
       "      <td>None</td>\n",
       "      <td>None</td>\n",
       "      <td>None</td>\n",
       "    </tr>\n",
       "  </tbody>\n",
       "</table>\n",
       "</div>"
      ],
      "text/plain": [
       "     osm_id osm_way_id  ... building:use residential\n",
       "1  12227309        NaN  ...         None        None\n",
       "2  12249345        NaN  ...         None        None\n",
       "\n",
       "[2 rows x 21 columns]"
      ]
     },
     "execution_count": 13,
     "metadata": {},
     "output_type": "execute_result"
    }
   ],
   "source": [
    "# have a look\n",
    "gdf2.head(2)"
   ]
  },
  {
   "cell_type": "code",
   "execution_count": 14,
   "metadata": {},
   "outputs": [
    {
     "data": {
      "text/plain": [
       "array(['retail', 'apartments', 'residential', 'commercial', 'yes',\n",
       "       'university', 'warehouse', 'school', 'house', 'train_station',\n",
       "       'industrial', 'police', 'roof', 'church', 'office', 'supermarket',\n",
       "       'laboratory', 'mosque', 'terrace', 'college', 'semidetached_house',\n",
       "       'hotel', 'shelter', 'clinic', 'civic', 'library', 'garage', 'shed',\n",
       "       'construction', 'service', 'residence', 'kindergarten',\n",
       "       'manufacture', 'parking', 'restaurant', 'garages', 'carport',\n",
       "       'community_centre', 'monastery', 'detached', 'synagogue', 'hall',\n",
       "       'guest_house', 'transportation', 'toilets', 'student'],\n",
       "      dtype=object)"
      ]
     },
     "execution_count": 14,
     "metadata": {},
     "output_type": "execute_result"
    }
   ],
   "source": [
    "gdf2['building'].unique()"
   ]
  },
  {
   "cell_type": "code",
   "execution_count": 15,
   "metadata": {},
   "outputs": [
    {
     "name": "stdout",
     "output_type": "stream",
     "text": [
      "3796\n"
     ]
    }
   ],
   "source": [
    "#- how many?\n",
    "print(len(gdf2))"
   ]
  },
  {
   "cell_type": "markdown",
   "metadata": {},
   "source": [
    "<div class=\"alert alert-block alert-warning\"><b>Calculate building height:</b> \n",
    "\n",
    "We assume a building level is 2.8 meters high and add another 1.3 meters (to account for the roof) and create a new attribute height.</div>"
   ]
  },
  {
   "cell_type": "code",
   "execution_count": 16,
   "metadata": {},
   "outputs": [],
   "source": [
    "# -- execute function. calculate building height\n",
    "city3D.calc_Bldheight(gdf2, is_geojson=False, output_file='./data/fp_j.geojson')"
   ]
  },
  {
   "cell_type": "code",
   "execution_count": 17,
   "metadata": {},
   "outputs": [],
   "source": [
    "data = './data/fp_j.geojson'\n",
    "json = pd.read_json(data)#data)\n",
    "build_df = pd.DataFrame()\n",
    "\n",
    "# Parse the geometry and properties out to Pandas\n",
    "gdf = gpd.GeoDataFrame.from_features(json['features'])\n",
    "build_df[\"tags\"] = json[\"features\"].apply(lambda row: row[\"properties\"])#[\"osm_tags\"])\n",
    "build_df = gpd.GeoDataFrame(build_df, geometry=gdf.geometry, crs=4326)"
   ]
  },
  {
   "cell_type": "markdown",
   "metadata": {},
   "source": [
    "***~ In order to make the most of the semantic data we need to extract the `osm_tags` from the dictionary: and add it as `tooltips` to the visualization.***\n",
    "\n",
    "<div class=\"alert alert-block alert-success\"><b>Building Stock:</b> To differentiate a school, formal and informal housing, retail, healthcare and community focused facilities (library, municipal office, community centre) we color the buildings - we harvest the osm tags [building type] directly.</div>"
   ]
  },
  {
   "cell_type": "code",
   "execution_count": 18,
   "metadata": {},
   "outputs": [],
   "source": [
    "#- this one\n",
    "build_df['building'] = build_df['tags'].apply(lambda x: x.get('building'))\n",
    "build_df['residential'] = build_df['tags'].apply(lambda x: x.get('residential'))\n",
    "build_df['building:levels'] = build_df['tags'].apply(lambda x: x.get('building:levels'))\n",
    "build_df['height'] = build_df['tags'].apply(lambda x: x.get('building_height'))\n",
    "build_df['plus_codes'] = build_df['tags'].apply(lambda x: x.get('plus_code'))\n",
    "build_df['address'] = build_df['tags'].apply(lambda x: x.get('address'))\n",
    "build_df['building:flats'] = build_df['tags'].apply(lambda x: x.get('building:flats'))\n",
    "build_df['building:units'] = build_df['tags'].apply(lambda x: x.get('building:units'))\n",
    "build_df['beds'] = build_df['tags'].apply(lambda x: x.get('beds'))\n",
    "build_df['rooms'] = build_df['tags'].apply(lambda x: x.get('rooms'))\n",
    "build_df['amenity'] = build_df['tags'].apply(lambda x: x.get('amenity'))\n",
    "build_df['social_facility'] = build_df['tags'].apply(lambda x: x.get('social_facility'))"
   ]
  },
  {
   "cell_type": "code",
   "execution_count": 19,
   "metadata": {},
   "outputs": [
    {
     "data": {
      "text/plain": [
       "array(['retail', 'apartments', 'residential', 'commercial', 'yes',\n",
       "       'university', 'warehouse', 'school', 'house', 'train_station',\n",
       "       'industrial', 'police', 'church', 'office', 'supermarket',\n",
       "       'laboratory', 'mosque', 'terrace', 'college', 'semidetached_house',\n",
       "       'hotel', 'clinic', 'civic', 'library', 'garage', 'shed',\n",
       "       'construction', 'service', 'residence', 'roof', 'kindergarten',\n",
       "       'manufacture', 'parking', 'restaurant', 'garages', 'carport',\n",
       "       'community_centre', 'monastery', 'detached', 'synagogue', 'hall',\n",
       "       'guest_house', 'transportation', 'toilets', 'student'],\n",
       "      dtype=object)"
      ]
     },
     "execution_count": 19,
     "metadata": {},
     "output_type": "execute_result"
    }
   ],
   "source": [
    "# have a look at the building types\n",
    "build_df['building'].unique()"
   ]
  },
  {
   "cell_type": "code",
   "execution_count": 20,
   "metadata": {},
   "outputs": [
    {
     "data": {
      "text/plain": [
       "3722"
      ]
     },
     "execution_count": 20,
     "metadata": {},
     "output_type": "execute_result"
    }
   ],
   "source": [
    "#build_df['height'].unique()\n",
    "len(build_df)"
   ]
  },
  {
   "cell_type": "code",
   "execution_count": 21,
   "metadata": {},
   "outputs": [],
   "source": [
    "#-- colour the building stock based on building:type\n",
    "\n",
    "## while we can color with a built-in pydeck function\n",
    "#color_lookup = pdk.data_utils.assign_random_colors(build_df['building'])\n",
    " # Assign a color\n",
    "#build_df['color'] = build_df.apply(lambda row: color_lookup.get(row['building']), axis=1)\n",
    "\n",
    "## we define specific colors\n",
    "def color(bld):\n",
    "    #- formal house\n",
    "    if bld == 'house' or bld == 'semidetached_house':\n",
    "        return [255, 255, 204]        #-grey\n",
    "    #- informal structure / social housing\n",
    "    if bld == 'residential' or bld == 'dormitory' or bld == 'cabin':\n",
    "        return [119, 3, 252]          #-purple\n",
    "    if bld == 'apartments':\n",
    "        return [252, 194, 3]          #-orange \n",
    "    if bld == 'garage' or bld == 'parking':\n",
    "        return [3, 132, 252]          #-blue        \n",
    "    if bld == 'retail' or bld == 'supermarket':\n",
    "        return [253, 141, 60]\n",
    "    if bld == 'office' or bld == 'commercial':\n",
    "        return [185, 206, 37]\n",
    "    if bld == 'school' or bld == 'kindergarten' or bld == 'university' or bld == 'college':\n",
    "        return [128, 0, 38]\n",
    "    if bld == 'clinic' or bld == 'doctors' or bld == 'hospital':\n",
    "        return [89, 182, 178]\n",
    "    if bld == 'community_centre' or bld == 'service' or bld == 'post_office' or bld == 'hall' \\\n",
    "    or bld ==  'townhall' or bld == 'police' or bld == 'library' or bld == 'fire_station' :\n",
    "        return [181, 182, 89]\n",
    "    if bld == 'warehouse' or bld == 'industrial':\n",
    "        return [193, 255, 193]\n",
    "    if bld == 'restaurant' or bld == 'hotel':\n",
    "        return [139, 117, 0]\n",
    "    if bld == 'place_of_worship' or bld == 'church' or bld == 'mosque':\n",
    "        return [225, 225, 51]\n",
    "    else:\n",
    "        return [255, 255, 204]\n",
    "\n",
    "build_df[\"color\"] = build_df['building'].apply(lambda x: color(x))"
   ]
  },
  {
   "cell_type": "code",
   "execution_count": 22,
   "metadata": {},
   "outputs": [
    {
     "data": {
      "text/html": [
       "<div>\n",
       "<style scoped>\n",
       "    .dataframe tbody tr th:only-of-type {\n",
       "        vertical-align: middle;\n",
       "    }\n",
       "\n",
       "    .dataframe tbody tr th {\n",
       "        vertical-align: top;\n",
       "    }\n",
       "\n",
       "    .dataframe thead th {\n",
       "        text-align: right;\n",
       "    }\n",
       "</style>\n",
       "<table border=\"1\" class=\"dataframe\">\n",
       "  <thead>\n",
       "    <tr style=\"text-align: right;\">\n",
       "      <th></th>\n",
       "      <th>tags</th>\n",
       "      <th>geometry</th>\n",
       "      <th>building</th>\n",
       "      <th>residential</th>\n",
       "      <th>building:levels</th>\n",
       "      <th>height</th>\n",
       "      <th>plus_codes</th>\n",
       "      <th>address</th>\n",
       "      <th>building:flats</th>\n",
       "      <th>building:units</th>\n",
       "      <th>beds</th>\n",
       "      <th>rooms</th>\n",
       "      <th>amenity</th>\n",
       "      <th>social_facility</th>\n",
       "      <th>color</th>\n",
       "    </tr>\n",
       "  </thead>\n",
       "  <tbody>\n",
       "    <tr>\n",
       "      <th>0</th>\n",
       "      <td>{'osm_id': None, 'building': 'retail', 'buildi...</td>\n",
       "      <td>POLYGON ((18.45801 -33.92731, 18.45853 -33.927...</td>\n",
       "      <td>retail</td>\n",
       "      <td>None</td>\n",
       "      <td>1</td>\n",
       "      <td>4.1</td>\n",
       "      <td>4FRW3FF5+276</td>\n",
       "      <td>Woodstock Cape Town</td>\n",
       "      <td>None</td>\n",
       "      <td>None</td>\n",
       "      <td>None</td>\n",
       "      <td>None</td>\n",
       "      <td>marketplace</td>\n",
       "      <td>None</td>\n",
       "      <td>[253, 141, 60]</td>\n",
       "    </tr>\n",
       "    <tr>\n",
       "      <th>1</th>\n",
       "      <td>{'osm_id': None, 'building': 'apartments', 'bu...</td>\n",
       "      <td>POLYGON ((18.45082 -33.92792, 18.45086 -33.927...</td>\n",
       "      <td>apartments</td>\n",
       "      <td>None</td>\n",
       "      <td>6</td>\n",
       "      <td>18.1</td>\n",
       "      <td>4FRW3FC2+R5G</td>\n",
       "      <td>34 Dickson Street 7915 Woodstock, Cape Town</td>\n",
       "      <td>105</td>\n",
       "      <td>None</td>\n",
       "      <td>None</td>\n",
       "      <td>None</td>\n",
       "      <td>None</td>\n",
       "      <td>None</td>\n",
       "      <td>[252, 194, 3]</td>\n",
       "    </tr>\n",
       "  </tbody>\n",
       "</table>\n",
       "</div>"
      ],
      "text/plain": [
       "                                                tags  ...           color\n",
       "0  {'osm_id': None, 'building': 'retail', 'buildi...  ...  [253, 141, 60]\n",
       "1  {'osm_id': None, 'building': 'apartments', 'bu...  ...   [252, 194, 3]\n",
       "\n",
       "[2 rows x 15 columns]"
      ]
     },
     "execution_count": 22,
     "metadata": {},
     "output_type": "execute_result"
    }
   ],
   "source": [
    "#  what do we have?\n",
    "build_df.head(2)"
   ]
  },
  {
   "cell_type": "markdown",
   "metadata": {},
   "source": [
    "**[pydeck](https://deckgl.readthedocs.io/en/latest/) needs an area and a center**, harvest from the [pyrosm](https://pyrosm.readthedocs.io/en/latest/basics.html#read-boundaries) boundary."
   ]
  },
  {
   "cell_type": "code",
   "execution_count": 23,
   "metadata": {},
   "outputs": [],
   "source": [
    "bounds = aoi.geometry.bounds\n",
    "x = aoi.centroid.x\n",
    "y = aoi.centroid.y\n",
    "\n",
    "bbox = [(bounds.minx, bounds.miny), (bounds.minx, bounds.maxy), \n",
    "        (bounds.maxx, bounds.maxy), (bounds.maxx, bounds.miny)]"
   ]
  },
  {
   "cell_type": "markdown",
   "metadata": {},
   "source": [
    "<a id='Section1b'></a>\n",
    "<div class=\"alert alert-block alert-success\"><b>Additional Features:</b> \n",
    "    \n",
    "This visualisation is the absolute basic *(coloured building stock)*.  \n",
    "It is possible to add additional features; *namely: bus rapid transit, parks, agricultural land and waterways (streams)*.  \n",
    "\n",
    "To get an idea of what is possible have a look at the **[village interactiveOnly](https://adriankriger.github.io/geo3D/docs/interactive/)** example. </div>"
   ]
  },
  {
   "cell_type": "code",
   "execution_count": null,
   "metadata": {},
   "outputs": [],
   "source": [
    "## ~ (x, y) - bl, tl, tr, br  ~~ or ~~ sw, nw, ne, se\n",
    "#area = [[[18.4377, -33.9307], [18.4377, -33.9283], [18.4418, -33.9283], [18.4418, -33.9307]]]\n",
    "area = [[[bbox[0][0][0], bbox[0][1][0]], [bbox[1][0][0], bbox[1][1][0]], \n",
    "         [bbox[2][0][0], bbox[2][1][0]], [bbox[3][0][0], bbox[3][1][0]]]]\n",
    "\n",
    "## ~ (y, x)\n",
    "view_state = pdk.ViewState(latitude=y[0], longitude=x[0], zoom=16, max_zoom=19, pitch=72, \n",
    "                                   bearing=80)\n",
    "\n",
    "land = pdk.Layer(\n",
    "    \"PolygonLayer\",\n",
    "    area,\n",
    "    stroked=False,\n",
    "    # processes the data as a flat longitude-latitude pair\n",
    "    get_polygon=\"-\",\n",
    "    get_fill_color=[0, 0, 0, 1],\n",
    "    #material = True,\n",
    "    #shadowEnabled = True\n",
    ")\n",
    "building_layer = pdk.Layer(\n",
    "    \"PolygonLayer\",\n",
    "    build_df,\n",
    "    #id=\"geojson\",\n",
    "    opacity=0.3,\n",
    "    stroked=False,\n",
    "    get_polygon=\"geometry.coordinates\",\n",
    "    get_elevation=\"height\",\n",
    "    filled=True,\n",
    "    extruded=True,\n",
    "    wireframe=False,\n",
    "    get_fill_color=\"color\", #255, 255, 255\n",
    "    #get_fill_color=\"fill_color\",\n",
    "    get_line_color=\"color\",#\"fill_color\",#[255, 255, 255],\n",
    "    #material = True, \n",
    "    #shadowEnabled = True, \n",
    "    auto_highlight=True,\n",
    "    pickable=True,\n",
    ")\n",
    "\n",
    "tooltip = {\"html\": \"<b>Levels:</b> {building:levels} <br/> <b>Address:</b> {address}\\\n",
    "<br/> <b>Plus Code:</b> {plus_codes} <br/> <b>Building Type:</b> {building}\"}\n",
    "\n",
    "#change the tooltip to show bus routes and comment out the previous\n",
    "#tooltip = {\"html\": \"<b>Route:</b> {name} <br/>\"}\n",
    "\n",
    "r = pdk.Deck(layers=[land, building_layer],#, b_layer, p_layer],# use_layer],#, water_layer, ], #\n",
    "             #views=[{\"@@type\": \"MapView\", \"controller\": True}],\n",
    "             initial_view_state=view_state,\n",
    "             map_style = 'dark_no_labels', \n",
    "             tooltip=tooltip)\n",
    "#save\n",
    "r.to_html(\"./result/interactiveOnly.html\")"
   ]
  },
  {
   "cell_type": "markdown",
   "metadata": {},
   "source": [
    "**on a laptop without a mouse:**\n",
    "\n",
    "- `trackpad left-click drag-left` and `-right`;\n",
    "- `Ctrl left-click drag-up`, `-down`, `-left` and `-right` to rotate and so-on and\n",
    "- `+` next to Backspace zoom-in and `-` next to `+` zoom-out.\n",
    "\n",
    "**Now you do your community.** ~ If your area lacks OpenStreetMap data and you want to contribute please follow the [Guide](https://wiki.openstreetmap.org/wiki/Beginners%27_guide)."
   ]
  },
  {
   "cell_type": "markdown",
   "metadata": {},
   "source": [
    "<div class=\"alert alert-block alert-danger\"><b>GO FURTHER</b></div>"
   ]
  },
  {
   "cell_type": "markdown",
   "metadata": {},
   "source": [
    "## 2. Spatial Data Science"
   ]
  },
  {
   "cell_type": "markdown",
   "metadata": {},
   "source": [
    "<div class=\"alert alert-block alert-warning\"><b>Now that we have a visualization of building stock (buildings colorized by `use`); lets do some basic spatial analysis:</b>  \n",
    "    \n",
    "     \n",
    "- We'll estimate the population, within our area of interest, and then  \n",
    "- calculate the Building Volume Per Capita (BVPC).\n",
    "</div>"
   ]
  },
  {
   "cell_type": "markdown",
   "metadata": {},
   "source": [
    "While estimating population is well documented; recent investigations to **understand overcrowding** have led to newer measurements.  \n",
    "\n",
    "The most noteable of these is **Building Volume Per Capita (BVPC)** [(Ghosh, T; et al. 2020)](https://www.researchgate.net/publication/343185735_Building_Volume_Per_Capita_BVPC_A_Spatially_Explicit_Measure_of_Inequality_Relevant_to_the_SDGs). BVPC is the cubic meters of building per person. **BVPC tells us how much space one person has per residential living unit** (a house / apartment / etc.). It is ***a proxy measure of economic inequality and a direct measure of housing inequality***. \n",
    "\n",
    "BVPC builds on the work of [(Reddy, A and Leslie, T.F., 2013)](https://www.tandfonline.com/doi/abs/10.1080/02723638.2015.1060696?journalCode=rurb20) and attempts to integrate with several **[Sustainable Development Goals](https://sdgs.un.org/goals)** (most noteably: **[SDG 11: Developing sustainable cities and communities](https://sdgs.un.org/goals/goal11)**) and captures the average ***'living space'*** each person has in their home."
   ]
  },
  {
   "cell_type": "markdown",
   "metadata": {},
   "source": [
    "<div class=\"alert alert-block alert-info\"><b>These analysis expect the user to have some basic knowledge about the environment under inquiry / investigation</b> </div>"
   ]
  },
  {
   "cell_type": "code",
   "execution_count": 25,
   "metadata": {},
   "outputs": [
    {
     "data": {
      "text/html": [
       "<div>\n",
       "<style scoped>\n",
       "    .dataframe tbody tr th:only-of-type {\n",
       "        vertical-align: middle;\n",
       "    }\n",
       "\n",
       "    .dataframe tbody tr th {\n",
       "        vertical-align: top;\n",
       "    }\n",
       "\n",
       "    .dataframe thead th {\n",
       "        text-align: right;\n",
       "    }\n",
       "</style>\n",
       "<table border=\"1\" class=\"dataframe\">\n",
       "  <thead>\n",
       "    <tr style=\"text-align: right;\">\n",
       "      <th></th>\n",
       "      <th>tags</th>\n",
       "      <th>geometry</th>\n",
       "      <th>building</th>\n",
       "      <th>residential</th>\n",
       "      <th>building:levels</th>\n",
       "      <th>height</th>\n",
       "      <th>plus_codes</th>\n",
       "      <th>address</th>\n",
       "      <th>building:flats</th>\n",
       "      <th>building:units</th>\n",
       "      <th>beds</th>\n",
       "      <th>rooms</th>\n",
       "      <th>amenity</th>\n",
       "      <th>social_facility</th>\n",
       "      <th>color</th>\n",
       "    </tr>\n",
       "  </thead>\n",
       "  <tbody>\n",
       "    <tr>\n",
       "      <th>0</th>\n",
       "      <td>{'osm_id': None, 'building': 'retail', 'buildi...</td>\n",
       "      <td>POLYGON ((18.45801 -33.92731, 18.45853 -33.927...</td>\n",
       "      <td>retail</td>\n",
       "      <td>None</td>\n",
       "      <td>1</td>\n",
       "      <td>4.1</td>\n",
       "      <td>4FRW3FF5+276</td>\n",
       "      <td>Woodstock Cape Town</td>\n",
       "      <td>None</td>\n",
       "      <td>None</td>\n",
       "      <td>None</td>\n",
       "      <td>None</td>\n",
       "      <td>marketplace</td>\n",
       "      <td>None</td>\n",
       "      <td>[253, 141, 60]</td>\n",
       "    </tr>\n",
       "    <tr>\n",
       "      <th>1</th>\n",
       "      <td>{'osm_id': None, 'building': 'apartments', 'bu...</td>\n",
       "      <td>POLYGON ((18.45082 -33.92792, 18.45086 -33.927...</td>\n",
       "      <td>apartments</td>\n",
       "      <td>None</td>\n",
       "      <td>6</td>\n",
       "      <td>18.1</td>\n",
       "      <td>4FRW3FC2+R5G</td>\n",
       "      <td>34 Dickson Street 7915 Woodstock, Cape Town</td>\n",
       "      <td>105</td>\n",
       "      <td>None</td>\n",
       "      <td>None</td>\n",
       "      <td>None</td>\n",
       "      <td>None</td>\n",
       "      <td>None</td>\n",
       "      <td>[252, 194, 3]</td>\n",
       "    </tr>\n",
       "  </tbody>\n",
       "</table>\n",
       "</div>"
      ],
      "text/plain": [
       "                                                tags  ...           color\n",
       "0  {'osm_id': None, 'building': 'retail', 'buildi...  ...  [253, 141, 60]\n",
       "1  {'osm_id': None, 'building': 'apartments', 'bu...  ...   [252, 194, 3]\n",
       "\n",
       "[2 rows x 15 columns]"
      ]
     },
     "execution_count": 25,
     "metadata": {},
     "output_type": "execute_result"
    }
   ],
   "source": [
    "#-- lets have a look at the data we have\n",
    "build_df.head(2)\n",
    "#ts['building:flats'].unique()"
   ]
  },
  {
   "cell_type": "code",
   "execution_count": 26,
   "metadata": {},
   "outputs": [],
   "source": [
    "#- we only want apartments with flats, beds=* data\n",
    "#build_df = build_df[build_df['flats'] != 0]\n",
    "#build_df = ts[ts['flats'] != 0]"
   ]
  },
  {
   "cell_type": "markdown",
   "metadata": {},
   "source": [
    "<div class=\"alert alert-block alert-success\"><b>1.  a) Estimate Population:</b> \n",
    "    \n",
    "_(with population growth rate and population projection possible too)_ </div>"
   ]
  },
  {
   "cell_type": "code",
   "execution_count": 27,
   "metadata": {},
   "outputs": [
    {
     "name": "stdout",
     "output_type": "stream",
     "text": [
      "2998\n"
     ]
    }
   ],
   "source": [
    "#--we only want building=house or =apartment or =residential\n",
    "\n",
    "#gdf = ts[ts[\"building\"].isin(['house', 'semidetached_house', 'apartments', 'residential', 'dormitory'])].copy()\n",
    "gdf2 = build_df[build_df[\"building\"].isin(['house', 'semidetached_house', 'terrace', 'apartments', 'residential', 'dormitory', 'cabin', 'student'])].copy()\n",
    "\n",
    "#- some data wrangling\n",
    "with pd.option_context(\"future.no_silent_downcasting\", True):\n",
    "    #gdf['building:flats'] = gdf['building:flats'].fillna(0).infer_objects(copy=False)\n",
    "    if 'building:flats' in gdf2.columns:  \n",
    "        gdf2['building:flats'] = pd.to_numeric(gdf2['building:flats'].fillna(0).infer_objects(copy=False))\n",
    "    if 'building:units' in gdf.columns:    \n",
    "        gdf2['building:units'] = pd.to_numeric(gdf2['building:units'].fillna(0).infer_objects(copy=False), errors='coerce')\n",
    "    if 'beds' in gdf2.columns:\n",
    "        gdf2['beds'] = pd.to_numeric(gdf2['beds'].fillna(0).infer_objects(copy=False))\n",
    "    if 'rooms' in gdf2.columns:\n",
    "        gdf2['rooms'] = pd.to_numeric(gdf2['rooms'].fillna(0).infer_objects(copy=False))\n",
    "\n",
    "gdf2['building:levels'] = pd.to_numeric(gdf2['building:levels'])\n",
    "\n",
    "print(len(gdf2))\n",
    "#gdf2['building'].unique()"
   ]
  },
  {
   "cell_type": "code",
   "execution_count": 28,
   "metadata": {},
   "outputs": [
    {
     "data": {
      "text/html": [
       "<div>\n",
       "<style scoped>\n",
       "    .dataframe tbody tr th:only-of-type {\n",
       "        vertical-align: middle;\n",
       "    }\n",
       "\n",
       "    .dataframe tbody tr th {\n",
       "        vertical-align: top;\n",
       "    }\n",
       "\n",
       "    .dataframe thead th {\n",
       "        text-align: right;\n",
       "    }\n",
       "</style>\n",
       "<table border=\"1\" class=\"dataframe\">\n",
       "  <thead>\n",
       "    <tr style=\"text-align: right;\">\n",
       "      <th></th>\n",
       "      <th>tags</th>\n",
       "      <th>geometry</th>\n",
       "      <th>building</th>\n",
       "      <th>residential</th>\n",
       "      <th>building:levels</th>\n",
       "      <th>height</th>\n",
       "      <th>plus_codes</th>\n",
       "      <th>address</th>\n",
       "      <th>building:flats</th>\n",
       "      <th>building:units</th>\n",
       "      <th>beds</th>\n",
       "      <th>rooms</th>\n",
       "      <th>amenity</th>\n",
       "      <th>social_facility</th>\n",
       "      <th>color</th>\n",
       "    </tr>\n",
       "  </thead>\n",
       "  <tbody>\n",
       "    <tr>\n",
       "      <th>1</th>\n",
       "      <td>{'osm_id': None, 'building': 'apartments', 'bu...</td>\n",
       "      <td>POLYGON ((18.45082 -33.92792, 18.45086 -33.927...</td>\n",
       "      <td>apartments</td>\n",
       "      <td>None</td>\n",
       "      <td>6.0</td>\n",
       "      <td>18.1</td>\n",
       "      <td>4FRW3FC2+R5G</td>\n",
       "      <td>34 Dickson Street 7915 Woodstock, Cape Town</td>\n",
       "      <td>105</td>\n",
       "      <td>0</td>\n",
       "      <td>0</td>\n",
       "      <td>0</td>\n",
       "      <td>None</td>\n",
       "      <td>None</td>\n",
       "      <td>[252, 194, 3]</td>\n",
       "    </tr>\n",
       "    <tr>\n",
       "      <th>2</th>\n",
       "      <td>{'osm_id': None, 'building': 'residential', 'b...</td>\n",
       "      <td>POLYGON ((18.44942 -33.93173, 18.44877 -33.931...</td>\n",
       "      <td>residential</td>\n",
       "      <td>None</td>\n",
       "      <td>4.0</td>\n",
       "      <td>12.5</td>\n",
       "      <td>4FRW3C9X+5G2</td>\n",
       "      <td>Victoria Walk Woodstock 7925 Cape Town</td>\n",
       "      <td>310</td>\n",
       "      <td>0</td>\n",
       "      <td>0</td>\n",
       "      <td>0</td>\n",
       "      <td>None</td>\n",
       "      <td>None</td>\n",
       "      <td>[119, 3, 252]</td>\n",
       "    </tr>\n",
       "  </tbody>\n",
       "</table>\n",
       "</div>"
      ],
      "text/plain": [
       "                                                tags  ...          color\n",
       "1  {'osm_id': None, 'building': 'apartments', 'bu...  ...  [252, 194, 3]\n",
       "2  {'osm_id': None, 'building': 'residential', 'b...  ...  [119, 3, 252]\n",
       "\n",
       "[2 rows x 15 columns]"
      ]
     },
     "execution_count": 28,
     "metadata": {},
     "output_type": "execute_result"
    }
   ],
   "source": [
    "gdf2.head(2)\n",
    "#gdf2['building'].value_counts()"
   ]
  },
  {
   "cell_type": "markdown",
   "metadata": {},
   "source": [
    "**This area is urban with single and 2-storey level housing units. To estimate population is thus pretty straight forward.**\n",
    "\n",
    "<div class=\"alert alert-block alert-info\"><b>We start with local knowledge.</b></div>\n",
    "\n",
    "**On average there are roughly `4` people per `building:house` in this area.**  \n",
    "\n",
    "**[social housing](https://en.wikipedia.org/wiki/Public_housing)** is tagged `building:residential` with the `3` people per building or `building:flats * 3` if the building is an *apartment-type* complex"
   ]
  },
  {
   "cell_type": "markdown",
   "metadata": {},
   "source": [
    "<div class=\"alert alert-block alert-danger\"><b>Your Participation! </b>\n",
    "    \n",
    "We will execute the calculation programmatically. **Fill in the relevant variables in the _`cell`_ below** </div>"
   ]
  },
  {
   "cell_type": "code",
   "execution_count": 29,
   "metadata": {},
   "outputs": [],
   "source": [
    "#- average number of residents per formal house\n",
    "f_house = 4\n",
    "#- average number of residents per informal structure\n",
    "inf_structure = 3"
   ]
  },
  {
   "cell_type": "markdown",
   "metadata": {},
   "source": [
    "<div class=\"alert alert-block alert-warning\"><b></b>  \n",
    "    \n",
    "**Furthermore:**  \n",
    "    -  An ***informal*** structure ([shack](https://en.wikipedia.org/wiki/Shack)) is tagged [building:cabin](https://wiki.openstreetmap.org/wiki/Tag:building%3Dcabin) and houses `3` people.  \n",
    "    - If a `building:residential` is a `social_facility`  (carehome, shelter, etc.)  harvests the `beds` *'key:value'* pair.  \n",
    "    - `building:apartment` harvests the `building:flats` *'key:value'* pair *(the number of units)* to calculate `*3` people per apartment.  \n",
    "    - ***Student accomodation***:  \n",
    ">    - University owed: is tagged `building:dormitory` with `residential:university` and harvests the `beds` *'key:value'* pair.\n",
    ">    - Private for-profit: is tagged `building:residential` or `:dormitory` with `residential:student` and then harvests the `building:flats` or `:rooms` *'key:value'* pair *(the number of units)* to calculate `*1` people per apartment; if `level: > 1` else `*3` people in a house share.\n",
    "    \n",
    "**The tagging scheme and numbers is based on *how your community is mapped* and local knowledge**\n",
    "</div>"
   ]
  },
  {
   "cell_type": "code",
   "execution_count": 30,
   "metadata": {},
   "outputs": [
    {
     "name": "stdout",
     "output_type": "stream",
     "text": [
      "The estimated population is: 17062.0\n"
     ]
    }
   ],
   "source": [
    "c = gdf2.columns\n",
    "\n",
    "def pop(row):\n",
    "    #- formal house\n",
    "    if row['building'] == 'house' or row['building'] == 'semidetached_house':\n",
    "        return f_house\n",
    "    if row['building'] == 'terrace':\n",
    "        return row['building:units'] * f_house\n",
    "\n",
    "    #- informal structure (shack)\n",
    "    if row['building'] == 'cabin':\n",
    "        return inf_structure\n",
    "        \n",
    "    #- in this case social housing\n",
    "    if row['building'] == 'residential' and 'social_facility' in c and row['social_facility'] is None:\n",
    "        if row['building:levels'] > 1:\n",
    "            if 'rooms' in row and row['rooms'] != 0:\n",
    "                return row['rooms']\n",
    "            if 'building:flats' in row and row['building:flats'] != 0:\n",
    "                return row['building:flats'] * inf_structure\n",
    "        else:\n",
    "            return inf_structure\n",
    "            \n",
    "    #-- social facility [shelter / carehome]\n",
    "    if row['building'] == 'residential' and row['social_facility'] is not None:\n",
    "        if row['building:units'] != 0:\n",
    "            return row['building:units'] * inf_structure\n",
    "        else: \n",
    "            return row['beds']\n",
    "                \n",
    "    #- formal apartment\n",
    "    if row['building'] == 'apartments':\n",
    "        return row['building:flats'] * 3\n",
    "        \n",
    "    #- private student residence \n",
    "    if row['building'] == 'student':\n",
    "        if row['building:levels'] > 1:\n",
    "            return row['building:flats']\n",
    "        else:\n",
    "            return 3\n",
    "    # university owned student residence\n",
    "    if row['building'] == 'dormitory' and row['residential'] == 'university':\n",
    "        if row['building:levels'] > 1:\n",
    "            if row['rooms'] != 0:\n",
    "                return row['rooms']\n",
    "            if row['beds'] != 0:\n",
    "                return row['beds']\n",
    "        else:\n",
    "            return 3\n",
    "\n",
    "gdf2['pop'] = gdf2.apply(lambda x: pop(x), axis=1)\n",
    "\n",
    "est_pop = gdf2['pop'].sum()\n",
    "print('The estimated population is:', est_pop)"
   ]
  },
  {
   "cell_type": "markdown",
   "metadata": {},
   "source": [
    "**[Statistics South Africa (STATSA)](https://www.statssa.gov.za) does not typically release official statistics at a suburb level but [City of Cape Town](https://www.capetown.gov.za/Family%20and%20home/education-and-research-materials/data-statistics-and-research/cape-town-census) generously publishes suburb profiles as Open Data.  \n",
    "These numbers are based on disaggregated [Statistics South Africa (STATSA)](https://www.statssa.gov.za) [Census 2011](https://www.statssa.gov.za/?page_id=3839).** \n",
    "\n",
    "**Woodstock 12 656** (6 577: salt river and 9 207: observatory). \n",
    "\n",
    "We can calculate the annual population growth rate using the formula for **[Annual population growth](https://databank.worldbank.org/metadataglossary/health-nutrition-and-population-statistics/series/SP.POP.GROW):**\n",
    "\n",
    "$$r = \\frac{\\ln{[\\frac{End Population}{Start Population}}]}{n} * 100 = \\frac{\\ln{[\\frac{17 062}{9345}}]}{12} * 100   = 2.49\\%$$"
   ]
  },
  {
   "cell_type": "markdown",
   "metadata": {},
   "source": [
    "<div class=\"alert alert-block alert-danger\"><b>Your Participation! </b>\n",
    "    \n",
    "\n",
    "It is possible to execute the calculation programmatically. **Fill in the relevant variables in the _`cell`_ below** </div>"
   ]
  },
  {
   "cell_type": "code",
   "execution_count": 31,
   "metadata": {},
   "outputs": [],
   "source": [
    "#- previous population\n",
    "start_population = 12656\n",
    "\n",
    "#- period in years from the previous census\n",
    "years = 12"
   ]
  },
  {
   "cell_type": "code",
   "execution_count": 32,
   "metadata": {},
   "outputs": [
    {
     "name": "stdout",
     "output_type": "stream",
     "text": [
      "population growth rate of approximately: 2.49 %\n"
     ]
    }
   ],
   "source": [
    "#-execute\n",
    "r = (np.log(est_pop/start_population)/years) * 100\n",
    "print('population growth rate of approximately:', round(r, 2), '%')"
   ]
  },
  {
   "cell_type": "markdown",
   "metadata": {},
   "source": [
    "To conclude; we can project into the future with a very basic formula to estimate the population _x_-years from now:  \n",
    "\n",
    "$$p  = P_o * (1 + r)^{t} = p = 17062 * (1 + 0.0249)^{10}  = 21 818$$"
   ]
  },
  {
   "cell_type": "markdown",
   "metadata": {},
   "source": [
    "<div class=\"alert alert-block alert-danger\"><b>Your Participation! </b>\n",
    "    \n",
    "It is possible to execute the calculation programmatically. **Fill in the variables in the _`cell`_ below** </div>"
   ]
  },
  {
   "cell_type": "code",
   "execution_count": 33,
   "metadata": {},
   "outputs": [],
   "source": [
    "#- period in years from now\n",
    "years = 10"
   ]
  },
  {
   "cell_type": "code",
   "execution_count": 34,
   "metadata": {},
   "outputs": [
    {
     "name": "stdout",
     "output_type": "stream",
     "text": [
      "estimated population 10 years from now: 21818\n"
     ]
    }
   ],
   "source": [
    "p = est_pop * (1 + (r/100))**years\n",
    "\n",
    "print('estimated population', years ,'years from now:', int(p))"
   ]
  },
  {
   "cell_type": "markdown",
   "metadata": {},
   "source": [
    "<a id='Section2b'></a>"
   ]
  },
  {
   "cell_type": "markdown",
   "metadata": {},
   "source": [
    "<div class=\"alert alert-block alert-success\"><b>2. ii) Building Volume Per Capita (BVPC):</b></div>"
   ]
  },
  {
   "cell_type": "markdown",
   "metadata": {},
   "source": [
    "**We first need to check the quality** *---topology---* **of the dataset**"
   ]
  },
  {
   "cell_type": "code",
   "execution_count": 35,
   "metadata": {},
   "outputs": [
    {
     "data": {
      "text/plain": [
       "<Geographic 2D CRS: EPSG:4326>\n",
       "Name: WGS 84\n",
       "Axis Info [ellipsoidal]:\n",
       "- Lat[north]: Geodetic latitude (degree)\n",
       "- Lon[east]: Geodetic longitude (degree)\n",
       "Area of Use:\n",
       "- name: World.\n",
       "- bounds: (-180.0, -90.0, 180.0, 90.0)\n",
       "Datum: World Geodetic System 1984 ensemble\n",
       "- Ellipsoid: WGS 84\n",
       "- Prime Meridian: Greenwich"
      ]
     },
     "execution_count": 35,
     "metadata": {},
     "output_type": "execute_result"
    }
   ],
   "source": [
    "gdf2.crs"
   ]
  },
  {
   "cell_type": "markdown",
   "metadata": {},
   "source": [
    "<img src=\"data/proj.png\" alt=\"proj\" width=\"550\" align=\"right\"/>\n",
    "\n",
    "<br>\n",
    "<br>\n",
    "\n",
    "**We also need [BVPC](https://www.researchgate.net/publication/343185735_Building_Volume_Per_Capita_BVPC_A_Spatially_Explicit_Measure_of_Inequality_Relevant_to_the_SDGs) in a cubic meter but our data is in Decimal Degrees.**  \n",
    "\n",
    "We need to convert coordinates from a ***Geographic*** to a local ***Projected*** system. "
   ]
  },
  {
   "cell_type": "markdown",
   "metadata": {},
   "source": [
    "<div class=\"alert alert-block alert-info\"><b>To keep this extremely generic (use anywhere) we go with WGS84 / Universal Transverse Mercator (UTM).</b></div>"
   ]
  },
  {
   "cell_type": "code",
   "execution_count": 36,
   "metadata": {},
   "outputs": [
    {
     "data": {
      "text/plain": [
       "<Projected CRS: EPSG:32734>\n",
       "Name: WGS 84 / UTM zone 34S\n",
       "Axis Info [cartesian]:\n",
       "- E[east]: Easting (metre)\n",
       "- N[north]: Northing (metre)\n",
       "Area of Use:\n",
       "- name: Between 18°E and 24°E, southern hemisphere between 80°S and equator, onshore and offshore. Angola. Botswana. Democratic Republic of the Congo (Zaire). Namibia. South Africa. Zambia.\n",
       "- bounds: (18.0, -80.0, 24.0, 0.0)\n",
       "Coordinate Operation:\n",
       "- name: UTM zone 34S\n",
       "- method: Transverse Mercator\n",
       "Datum: World Geodetic System 1984 ensemble\n",
       "- Ellipsoid: WGS 84\n",
       "- Prime Meridian: Greenwich"
      ]
     },
     "execution_count": 36,
     "metadata": {},
     "output_type": "execute_result"
    }
   ],
   "source": [
    "#- internal geopandas function\n",
    "gdf2.estimate_utm_crs() "
   ]
  },
  {
   "cell_type": "markdown",
   "metadata": {},
   "source": [
    "<div class=\"alert alert-block alert-danger\"><b>Your Participation! </b>\n",
    "    \n",
    "**Fill in the proper `epsg` in the _`cell`_ below** \n",
    "</div>"
   ]
  },
  {
   "cell_type": "code",
   "execution_count": 37,
   "metadata": {},
   "outputs": [],
   "source": [
    "#- first line above: <Projected CRS: EPSG:xxxxx>\n",
    "epsg = 32734"
   ]
  },
  {
   "cell_type": "code",
   "execution_count": 38,
   "metadata": {},
   "outputs": [],
   "source": [
    "#- highlight crossing features (buildings). more buildings = more time\n",
    "gdf2 = gdf2.to_crs(epsg)\n",
    "\n",
    "gdf_copy = gdf2.copy()\n",
    "new_df1 = gdf_copy.loc[gdf_copy.overlaps(gdf_copy.unary_union)].reset_index(drop=True)  #-- perhaps no union?\n",
    "#new_df1 = gdf_copy.loc[gdf_copy.overlaps(gdf_copy)].reset_index(drop=True)  #-- perhaps no union?\n",
    "\n",
    "gdf_copy.drop(gdf_copy.index[gdf_copy['building'] == 'bridge'], inplace = True)\n",
    "gdf_copy.drop(gdf_copy.index[gdf_copy['building'] == 'roof'], inplace = True)"
   ]
  },
  {
   "cell_type": "code",
   "execution_count": 39,
   "metadata": {},
   "outputs": [
    {
     "data": {
      "image/png": "[encoded data removed]",
      "text/plain": [
       "<Figure size 792x792 with 1 Axes>"
      ]
     },
     "metadata": {},
     "output_type": "display_data"
    }
   ],
   "source": [
    "#-plot\n",
    "fig, ax = plt.subplots(figsize=(11, 11))\n",
    "\n",
    "gdf_copy.plot(ax=ax, facecolor='none', edgecolor='purple', alpha=0.2)\n",
    "if len(new_df1) > 0:\n",
    "    new_df1.plot(ax=ax, edgecolor='red', facecolor='none')#, alpha=0.3)#, column='osm_building', legend=True)\n",
    "\n",
    "#-- save\n",
    "plt.savefig('./data/topologyFig', dpi=300)\n",
    "#plt.show()"
   ]
  },
  {
   "attachments": {},
   "cell_type": "markdown",
   "metadata": {},
   "source": [
    "|  |  |\n",
    "|:--------:|:--------:|\n",
    "| ![ue-error.png](./data/ue-error.png)| **Challenges will be highlight in *'Red'***|\n",
    "| ![ue.png](./data/ue.png)| **or none**|"
   ]
  },
  {
   "cell_type": "markdown",
   "metadata": {},
   "source": [
    "<h2><center> If you continue without fixing the challenges, the BVPC value will not be true.  <br /><br /> Our goal is to be as representative as possible. </center></h2>\n",
    "\n",
    "**If necessary; edit [OpenStreetMap](https://www.openstreetmap.org/about) and fix the challenge please.** \n",
    "\n",
    "<div class=\"alert alert-block alert-warning\"><b>  </b> \n",
    "\n",
    "And remember.  \n",
    "Geofabrik releases a ***fresh `.osm.pbf` EVERYDAY!***  \n",
    "Give the OpenStreetMap server ***at least a day*** before attempting the process again.\n",
    "    \n",
    "**Alchemy is a process. Please be patient.**\n",
    "</div>"
   ]
  },
  {
   "cell_type": "markdown",
   "metadata": {},
   "source": [
    "<div class=\"alert alert-block alert-success\"><b>BVPC = total population of a community divided by sum of building volume</b></div>"
   ]
  },
  {
   "cell_type": "code",
   "execution_count": 40,
   "metadata": {},
   "outputs": [],
   "source": [
    "#gdf.height.unique()"
   ]
  },
  {
   "cell_type": "code",
   "execution_count": 41,
   "metadata": {},
   "outputs": [],
   "source": [
    "#- area and volume\n",
    "gdf2['area'] = gdf2['geometry'].area\n",
    "gdf2['volume'] = gdf2['area'] * gdf2['height']\n",
    "\n",
    "#- remove the volume of the ground floor (unoccupied) when building:levels > 7 [this is an arbitrary number based on local knowledge]\n",
    "#- typically this space is reserved for some other function: retail, etc. \n",
    "gdf2['volume'] = [\n",
    "    (row['volume'] - row['area'] * 2.8) if (\n",
    "        row['social_facility'] is None and row['building:levels'] > 7 and \n",
    "        row['building'] in ['residential', 'apartments', 'student']\n",
    "    ) else row['volume']\n",
    "    for _, row in gdf2.iterrows()\n",
    "]\n",
    "\n",
    "gdf2['bvpc'] =  gdf2['volume'] / gdf2['pop'] "
   ]
  },
  {
   "cell_type": "code",
   "execution_count": 42,
   "metadata": {},
   "outputs": [
    {
     "name": "stdout",
     "output_type": "stream",
     "text": [
      "count    2996.000000\n",
      "mean             inf\n",
      "std              NaN\n",
      "min        30.084609\n",
      "25%        89.761428\n",
      "50%       117.238453\n",
      "75%       166.938368\n",
      "max              inf\n",
      "Name: bvpc, dtype: float64\n"
     ]
    }
   ],
   "source": [
    "print(gdf2['bvpc'].describe())"
   ]
  },
  {
   "cell_type": "code",
   "execution_count": 43,
   "metadata": {},
   "outputs": [
    {
     "name": "stdout",
     "output_type": "stream",
     "text": [
      "Building Volume Per Capita (BVPC): 137.256\n"
     ]
    }
   ],
   "source": [
    "bvpc = round(gdf2['volume'].sum() / est_pop, 3)\n",
    "#bvpc = round( est_pop / gdf2['volume'].sum(), 3)\n",
    "\n",
    "print('Building Volume Per Capita (BVPC):', bvpc)"
   ]
  },
  {
   "cell_type": "markdown",
   "metadata": {},
   "source": [
    "<div class=\"alert alert-block alert-info\"><b></b>\n",
    "\n",
    "**This BVPC value is general.**  \n",
    "\n",
    "We can seperate `building:house` and `building:residential` to undertand the differences between ***formal and informal / social*** housing in this area.\n",
    "    \n",
    "**We want to understand the living space *(the cubic-meter BVPC value)* each person has in thier home**\n",
    "</div>"
   ]
  },
  {
   "cell_type": "code",
   "execution_count": 44,
   "metadata": {},
   "outputs": [
    {
     "name": "stdout",
     "output_type": "stream",
     "text": [
      "FORMAL: Population:  11844  with Building Volume Per Capita (BVPC): 145.653\n",
      "\n",
      "STUDENT RESIDENCE: Population:  45  with Building Volume Per Capita (BVPC): 109.497\n",
      "\n",
      "INFORMAL: Population:  1279  with Building Volume Per Capita (BVPC) 77.813\n"
     ]
    }
   ],
   "source": [
    "#- formal\n",
    "formal = gdf2[gdf2[\"building\"].isin(['house', 'semidetached_house', 'terrace', 'apartment'])].copy()\n",
    "f_pop = int(formal['pop'].sum())\n",
    "#f_area = formal['area'].mean()\n",
    "\n",
    "#- informal\n",
    "informal = gdf2[gdf2[\"building\"].isin(['residential', 'cabin'])].copy()\n",
    "inf_pop = int(informal['pop'].sum())\n",
    "#inf_area = formal['area'].mean()\n",
    "\n",
    "#- student\n",
    "stu = gdf2[gdf2[\"building\"].isin(['student', 'dormitory'])].copy()\n",
    "stu_pop = int(stu['pop'].sum())\n",
    "\n",
    "#bvpc_formal = round(formal['volume'].sum() / est_pop, 3)\n",
    "#bvpc_informal = round(informal['volume'].sum() / est_pop, 3)\n",
    "#bvpc_stu = round(stu['volume'].sum() / est_pop, 3)\n",
    "bvpc_formal = round(formal['volume'].sum() / formal['pop'].sum(), 3)\n",
    "bvpc_informal = round(informal['volume'].sum() / informal['pop'].sum() if informal['pop'].sum() != 0 else 0, 3)\n",
    "bvpc_stu = round(stu['volume'].sum() / stu['pop'].sum() if stu['pop'].sum() != 0 else 0, 3)\n",
    "\n",
    "print('FORMAL: Population: ', f_pop, ' with Building Volume Per Capita (BVPC):', bvpc_formal)\n",
    "print('')\n",
    "print('STUDENT RESIDENCE: Population: ', stu_pop, ' with Building Volume Per Capita (BVPC):', bvpc_stu)\n",
    "print('')\n",
    "print('INFORMAL: Population: ', inf_pop, ' with Building Volume Per Capita (BVPC)', bvpc_informal)"
   ]
  },
  {
   "cell_type": "code",
   "execution_count": 45,
   "metadata": {},
   "outputs": [],
   "source": [
    "#informal"
   ]
  },
  {
   "cell_type": "markdown",
   "metadata": {},
   "source": [
    "<div class=\"alert alert-block alert-danger\"><b>Warning: </b>\n",
    "    \n",
    "\n",
    "These are LoD1 3D City Models.  \n",
    "LoD2 would offer a more representative BVPC [(Ghosh, T; et al. 2020)](https://www.researchgate.net/publication/343185735_Building_Volume_Per_Capita_BVPC_A_Spatially_Explicit_Measure_of_Inequality_Relevant_to_the_SDGs) value; when the complexity of the built environment increases.  \n",
    "\n",
    "Think about a `house` with living space in the roof structure, so called *'attic living'*, or an `apartment` building with different levels, loft apartments and/or units in the turrets of a building.  \n",
    "\n",
    "***consider***: this area seperates [building:cabin](https://wiki.openstreetmap.org/wiki/Tag:building%3Dcabin) from `building:residential` to more precisely represent informal structures without typical roof trussess but account for [social housing](https://en.wikipedia.org/wiki/Public_housing) that does</div></div>"
   ]
  },
  {
   "cell_type": "markdown",
   "metadata": {},
   "source": [
    "**Now you do your community.** ~ If your area needs [OpenStreetMap](https://en.wikipedia.org/wiki/OpenStreetMap) data and you want to contribute please follow the [Guide](https://wiki.openstreetmap.org/wiki/Beginners%27_guide)."
   ]
  },
  {
   "cell_type": "markdown",
   "metadata": {},
   "source": [
    "<a id='Section3'></a>"
   ]
  },
  {
   "cell_type": "markdown",
   "metadata": {},
   "source": [
    "<div class=\"alert alert-block alert-success\"><b>3. Possible Secondary and Tertiary level conversations starters:</b></div>"
   ]
  },
  {
   "cell_type": "markdown",
   "metadata": {},
   "source": [
    "| **Topic**                                | **Secondary Level Questions**                                                                                                                                                                                   | **Tertiary Level Questions**                                                                                                                                                                                                                   |\n",
    "|------------------------------------------|-----------------------------------------------------------------------------------------------------------------------------------------------------------------------------------------------------------------|--------------------------------------------------------------------------------------------------------------------------------------------------------------------------------------------------------------------------------------------------|\n",
    "| **Geography** | - Talk about the main difference between a globe and a map, and why we use map projections to represent the Earth on a flat surface<br>- Explain why different map projections are used for different purposes. For example, why might a Mercator projection be useful for navigation, but not for comparing the sizes of countries? | - Discuss why it is necessary to convert geographic coordinates (latitude and longitude) to a projected coordinate system in the context of the geospatial sciences. What are some potential issues if this conversion is not done? <br>- How does geodesy contribute to the geospatial sciences?|\n",
    "| **Basic Understanding and Observations** | - What types of buildings are most common in the area (houses, apartments, retail, etc.)?<br>- Can you identify any patterns in the distribution of different types of buildings (e.g., are retail stores concentrated in certain areas)? | - How does the building stock composition (e.g., ratio of houses) correlate with the population? *demographics (e.g., age distribution, household size for the area will strengthen the analysis!* <br>- Analyze the relationship between building density and population. What urban planning theories can explain this relationship? |\n",
    "| **Spatial Relationships and Impacts**    | - How does the location of residential areas compare to the location of retail and commercial areas?<br>- What impact might the density and distribution of buildings have on local traffic and transportation?<br>- How might the population distribution affect the demand for local services such as schools, hospitals, and parks? | - Evaluate the accessibility of essential services (e.g., healthcare, education) in relation to the population and building types.<br>- Assess the potential social and economic impacts of a proposed new residential or commercial development in the area.                  |\n",
    "| **Socioeconomic and Environmental Considerations** | - **How can an increase in the population of an urban area affect the demand for housing and public services?** *(conversely what do the results of  [village]() indicate?)*<br>- Are there any correlations between the types of housing available and the household size? *additional demographics (e.g., income level) for the area will strengthen the analysis!*<br>- How might the current building stock and population influence the local economy? *demographics (e.g., age distribution, household size) for the area will strengthen the analysis!*<br>- What are some potential environmental impacts of the current building distribution, such as green space availability or pollution levels? | - **What are the potential socio-economic and environmental challenges associated with rapid population growth in urban areas, and how can urban planners address these challenges?** *(conversely what do the results of  [village]() indicate?)*<br>- How does the current building stock support or hinder sustainable development goals (e.g., energy efficiency, reduced carbon footprint)?<br>- What strategies could be implemented to increase the resilience of the community to environmental or economic changes?                       |\n",
    "| **Future Planning and Development**      | - Based on the current building stock and population metrics, what areas might benefit from additional housing or commercial development?<br>- How could urban planners use this information to improve the quality of life in the area?<br>- What changes would you recommend to better balance residential, commercial, and recreational spaces? | - How might different zoning regulations impact the distribution of residential, commercial, and industrial buildings in the future?<br>- Propose urban design solutions that could improve the sustainability and livability of the area, considering both current metrics and future projections. |\n",
    "| **Quantitative and Qualitative Research** | |- Design a research study to investigate the impact of building type diversity on community wellbeing. What methodologies would you use?<br>- Analyze historical data to understand trends in building development and population growth. How have these trends shaped the current urban landscape?<br>- Conduct a SWOT analysis (Strengths, Weaknesses, Opportunities, Threats) of the area based on the building stock and population metrics. |"
   ]
  },
  {
   "cell_type": "code",
   "execution_count": null,
   "metadata": {},
   "outputs": [],
   "source": []
  },
  {
   "cell_type": "code",
   "execution_count": null,
   "metadata": {},
   "outputs": [],
   "source": []
  }
 ],
 "metadata": {
  "kernelspec": {
   "display_name": "Python 3 (Spyder)",
   "language": "python3",
   "name": "python3"
  },
  "language_info": {
   "codemirror_mode": {
    "name": "ipython",
    "version": 3
   },
   "file_extension": ".py",
   "mimetype": "text/x-python",
   "name": "python",
   "nbconvert_exporter": "python",
   "pygments_lexer": "ipython3",
   "version": "3.9.19"
  }
 },
 "nbformat": 4,
 "nbformat_minor": 4
}
