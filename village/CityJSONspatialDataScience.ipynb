{
 "cells": [
  {
   "cell_type": "markdown",
   "id": "164926e0",
   "metadata": {
    "id": "6d0b0da0"
   },
   "source": [
    "## Spatial Data Science with CityJSON\n",
    "\n",
    "The purpose of this Notebook is to ***work with*** the product of [osm_LoD1_3DCityModel](https://github.com/AdrianKriger/osm_LoD1_3DCityModel); a previously created CityJSON city model."
   ]
  },
  {
   "cell_type": "markdown",
   "id": "305f3f23",
   "metadata": {
    "id": "91998c9b"
   },
   "source": [
    "<div class=\"alert alert-block alert-warning\"><b>This notebook will:</b>\n",
    "\n",
    "> **1. allow the user to execute an application of Spatial Data Science**  \n",
    ">\n",
    ">> **a)  [population estimation](#Section1a)** _--with a previous census metric population growth rate and projected (future) population are also possible_  **and**  \n",
    ">> **b)  a measure of [Building Volume per Capita](#Section1b)**\n",
    ">\n",
    "> **2. produce [an interactive visualization](#Section1b)** *-via [pydeck](https://deckgl.readthedocs.io/en/latest/)- which a user can navigate, query and share* **that**;\n",
    "> > **a) [colour buildings by type](#Section2a)** *(to easily visualize building stock)* \n",
    ">\n",
    "> **3. propose several [Geography and Sustainable Development Education *conversation starters*](#Section3) for Secondary and Tertiary level students**\n",
    "</div>"
   ]
  },
  {
   "cell_type": "markdown",
   "id": "af30e4b2-5af9-49f2-9362-1d604000bec9",
   "metadata": {},
   "source": [
    "<div class=\"alert alert-block alert-danger\"><b>Please Note:</b>\n",
    "\n",
    "***The [village](https://github.com/AdrianKriger/geo3D/tree/main/village)*** processing option is meant for areas with no more than for **2 500 buildings**.</div>"
   ]
  },
  {
   "cell_type": "code",
   "execution_count": 1,
   "id": "5dd597d7",
   "metadata": {
    "id": "a4ea1fcc"
   },
   "outputs": [],
   "source": [
    "#load the magic\n",
    "\n",
    "%matplotlib inline\n",
    "import os\n",
    "from pathlib import Path\n",
    "\n",
    "import numpy as np\n",
    "import pandas as pd\n",
    "import geopandas as gpd\n",
    "import shapely\n",
    "from shapely.geometry import Polygon, shape, mapping\n",
    "import json\n",
    "import geojson\n",
    "\n",
    "from cjio import cityjson\n",
    "\n",
    "import matplotlib.pyplot as plt\n",
    "import pydeck as pdk\n",
    "\n",
    "import warnings"
   ]
  },
  {
   "cell_type": "markdown",
   "id": "b1988f7d",
   "metadata": {
    "id": "d19acf91"
   },
   "source": [
    "**The area under investigation is [Mamre, Cape Town. South Africa](https://en.wikipedia.org/wiki/Mamre,_South_Africa).**"
   ]
  },
  {
   "cell_type": "code",
   "execution_count": 2,
   "id": "5557ef08",
   "metadata": {
    "id": "529536e5"
   },
   "outputs": [],
   "source": [
    "#- change to harvest the appropriate CityJSON\n",
    "\n",
    "#jparams = json.load(open('osm3DUEstate_param.json'))\n",
    "#jparams = json.load(open('osm3DwEstate_param.json'))\n",
    "#jparams = json.load(open('osm3DCPUT_param.json'))\n",
    "jparams = json.load(open('osm3DMamre_param.json'))\n",
    "#jparams = json.load(open('osm3Dobs_param.json'))\n",
    "#jparams = json.load(open('osm3DsRiver_param.json'))"
   ]
  },
  {
   "cell_type": "code",
   "execution_count": 3,
   "id": "d9717ddd",
   "metadata": {
    "id": "c45a674c"
   },
   "outputs": [],
   "source": [
    "cm = cityjson.load(path=jparams['cjsn_solid']) #-- citjsnClean_uEstate10m.json in the result folder"
   ]
  },
  {
   "cell_type": "code",
   "execution_count": 4,
   "id": "0360987e",
   "metadata": {},
   "outputs": [
    {
     "name": "stdout",
     "output_type": "stream",
     "text": [
      "CityJSON version = 1.1\n",
      "EPSG = 32733\n",
      "bbox = [263698.0877859225, 6287743.433441361, 145.12, 6287743.433441361, 6287743.433441361, 252.57]\n",
      "=== CityObjects ===\n",
      "|-- TINRelief (1)\n",
      "|-- Building (2185)\n",
      "===================\n",
      "materials = False\n",
      "textures = False\n"
     ]
    }
   ],
   "source": [
    "print(cm)"
   ]
  },
  {
   "cell_type": "code",
   "execution_count": 5,
   "id": "f8e0fa63",
   "metadata": {
    "id": "c7ec404d"
   },
   "outputs": [],
   "source": [
    "df = cm.to_dataframe()\n",
    "#- remove the first feature: the terrain\n",
    "df = df[1:]            \n",
    "\n",
    "gdf = gpd.GeoDataFrame(df, geometry=[shape(d) for d in df.pop(\"footprint\")], crs=jparams['crs'])\n",
    "#gdf.head(2)"
   ]
  },
  {
   "cell_type": "markdown",
   "id": "17ae2c91",
   "metadata": {
    "id": "b87c1769"
   },
   "source": [
    "## 1. Spatial Data Science"
   ]
  },
  {
   "cell_type": "markdown",
   "id": "61389a02",
   "metadata": {
    "id": "7d170bdc"
   },
   "source": [
    "<div class=\"alert alert-block alert-warning\"><b>We start with basic spatial analysis</b>  \n",
    "    \n",
    "     \n",
    "- We'll [estimate the population](#Section1a), within our area of interest, and then  \n",
    "- calculate the [Building Volume Per Capita (BVPC)](#Section1b).\n",
    "</div>"
   ]
  },
  {
   "cell_type": "markdown",
   "id": "88f9c7f0",
   "metadata": {
    "id": "1bae2eb7"
   },
   "source": [
    "While estimating population is well documented; recent investigations to **understand overcrowding** have led to newer measurements.  \n",
    "\n",
    "The most noteable of these is **Building Volume Per Capita (BVPC)** [(Ghosh, T; et al. 2020)](https://www.researchgate.net/publication/343185735_Building_Volume_Per_Capita_BVPC_A_Spatially_Explicit_Measure_of_Inequality_Relevant_to_the_SDGs). BVPC is the cubic meters of building per person. **BVPC tells us how much space one person has per residential living unit** (a house / apartment / etc.). It is ***a proxy measure of economic inequality and a direct measure of housing inequality***.\n",
    "\n",
    "BVPC builds on the work of [(Reddy, A and Leslie, T.F., 2013)](https://www.tandfonline.com/doi/abs/10.1080/02723638.2015.1060696?journalCode=rurb20) and attempts to integrate with several **[Sustainable Development Goals](https://sdgs.un.org/goals)** (most noteably: **[SDG 11: Developing sustainable cities and communities](https://sdgs.un.org/goals/goal11)**) and captures the average ***'living space'*** each person has in their home."
   ]
  },
  {
   "cell_type": "markdown",
   "id": "693b09b6",
   "metadata": {
    "id": "28084941"
   },
   "source": [
    "<div class=\"alert alert-block alert-info\"><b>These analysis expect the user to have some basic knowledge about the environment under inquiry / investigation</b> </div>"
   ]
  },
  {
   "cell_type": "code",
   "execution_count": 6,
   "id": "a44108b5",
   "metadata": {
    "id": "9b5be780",
    "outputId": "fdc6bce5-8012-49fd-d999-4eb6ef7eb015"
   },
   "outputs": [
    {
     "data": {
      "text/html": [
       "<div>\n",
       "<style scoped>\n",
       "    .dataframe tbody tr th:only-of-type {\n",
       "        vertical-align: middle;\n",
       "    }\n",
       "\n",
       "    .dataframe tbody tr th {\n",
       "        vertical-align: top;\n",
       "    }\n",
       "\n",
       "    .dataframe thead th {\n",
       "        text-align: right;\n",
       "    }\n",
       "</style>\n",
       "<table border=\"1\" class=\"dataframe\">\n",
       "  <thead>\n",
       "    <tr style=\"text-align: right;\">\n",
       "      <th></th>\n",
       "      <th>osm_id</th>\n",
       "      <th>building</th>\n",
       "      <th>building:levels</th>\n",
       "      <th>plus_code</th>\n",
       "      <th>ground_height</th>\n",
       "      <th>building_height</th>\n",
       "      <th>roof_height</th>\n",
       "      <th>address</th>\n",
       "      <th>amenity</th>\n",
       "      <th>residential</th>\n",
       "      <th>bottom_roof_height</th>\n",
       "      <th>building:use</th>\n",
       "      <th>geometry</th>\n",
       "    </tr>\n",
       "  </thead>\n",
       "  <tbody>\n",
       "    <tr>\n",
       "      <th>328118446</th>\n",
       "      <td>328118446.0</td>\n",
       "      <td>yes</td>\n",
       "      <td>1</td>\n",
       "      <td>CMXPX3XW+XQR</td>\n",
       "      <td>179.43</td>\n",
       "      <td>4.1</td>\n",
       "      <td>183.53</td>\n",
       "      <td>NaN</td>\n",
       "      <td>NaN</td>\n",
       "      <td>NaN</td>\n",
       "      <td>NaN</td>\n",
       "      <td>NaN</td>\n",
       "      <td>POLYGON ((265041.635 6289775.059, 265050.531 6...</td>\n",
       "    </tr>\n",
       "    <tr>\n",
       "      <th>328118447</th>\n",
       "      <td>328118447.0</td>\n",
       "      <td>church</td>\n",
       "      <td>2</td>\n",
       "      <td>CPXWXXX3+XFX</td>\n",
       "      <td>179.04</td>\n",
       "      <td>6.9</td>\n",
       "      <td>185.94</td>\n",
       "      <td>Kerk Street Mamre 7347 Cape Town</td>\n",
       "      <td>place_of_worship</td>\n",
       "      <td>NaN</td>\n",
       "      <td>NaN</td>\n",
       "      <td>NaN</td>\n",
       "      <td>POLYGON ((265070.977 6289761.325, 265072.315 6...</td>\n",
       "    </tr>\n",
       "  </tbody>\n",
       "</table>\n",
       "</div>"
      ],
      "text/plain": [
       "                osm_id  ...                                           geometry\n",
       "328118446  328118446.0  ...  POLYGON ((265041.635 6289775.059, 265050.531 6...\n",
       "328118447  328118447.0  ...  POLYGON ((265070.977 6289761.325, 265072.315 6...\n",
       "\n",
       "[2 rows x 13 columns]"
      ]
     },
     "execution_count": 6,
     "metadata": {},
     "output_type": "execute_result"
    }
   ],
   "source": [
    "gdf.head(2)"
   ]
  },
  {
   "cell_type": "code",
   "execution_count": 7,
   "id": "1c87ffcf",
   "metadata": {},
   "outputs": [
    {
     "data": {
      "text/plain": [
       "array(['yes', 'church', 'house', 'public', 'civic', 'office', 'retail',\n",
       "       'clinic', 'school', 'cabin', 'garage', 'greenhouse', 'roof',\n",
       "       'clubhouse', 'service', 'detached', 'shed'], dtype=object)"
      ]
     },
     "execution_count": 7,
     "metadata": {},
     "output_type": "execute_result"
    }
   ],
   "source": [
    "#gdf.plot()\n",
    "# have a look at the building type and amenities available\n",
    "#gdf['osm_building'].unique()\n",
    "gdf['building'].unique()"
   ]
  },
  {
   "cell_type": "markdown",
   "id": "931cdc34-fed5-4b13-880e-4f6c35753f39",
   "metadata": {},
   "source": [
    "<a id='Section1a'></a>"
   ]
  },
  {
   "cell_type": "markdown",
   "id": "aeb2a0d7",
   "metadata": {
    "id": "49f5c85e"
   },
   "source": [
    "<div class=\"alert alert-block alert-success\"><b>1.  a) Estimate Population:</b> \n",
    "    \n",
    "_(with population growth rate and population projection possible too)_ </div>"
   ]
  },
  {
   "cell_type": "code",
   "execution_count": 8,
   "id": "842acc96",
   "metadata": {
    "id": "1bc556e3"
   },
   "outputs": [],
   "source": [
    "#--we only want building=house or =apartment or =residential\n",
    "#gdf_pop = gdf[gdf[\"osm_building\"].isin(['house', 'semidetached_house', 'terrace', 'apartments', 'residential', 'dormitory'])].copy()\n",
    "gdf_pop = gdf[gdf[\"building\"].isin(['house', 'semidetached_house', 'terrace', 'apartments', 'residential', 'dormitory', 'cabin'])].copy()"
   ]
  },
  {
   "cell_type": "code",
   "execution_count": 9,
   "id": "08437262-916e-4dfc-8690-91aaa4042fc9",
   "metadata": {},
   "outputs": [],
   "source": [
    "#gdf_pop.head(2)\n",
    "#gdf_pop['osm_building:units']"
   ]
  },
  {
   "cell_type": "code",
   "execution_count": 10,
   "id": "901aaf60-25d2-4307-b2be-1b4cdeff061c",
   "metadata": {
    "scrolled": true
   },
   "outputs": [
    {
     "data": {
      "text/html": [
       "<div>\n",
       "<style scoped>\n",
       "    .dataframe tbody tr th:only-of-type {\n",
       "        vertical-align: middle;\n",
       "    }\n",
       "\n",
       "    .dataframe tbody tr th {\n",
       "        vertical-align: top;\n",
       "    }\n",
       "\n",
       "    .dataframe thead th {\n",
       "        text-align: right;\n",
       "    }\n",
       "</style>\n",
       "<table border=\"1\" class=\"dataframe\">\n",
       "  <thead>\n",
       "    <tr style=\"text-align: right;\">\n",
       "      <th></th>\n",
       "      <th>osm_id</th>\n",
       "      <th>building</th>\n",
       "      <th>building:levels</th>\n",
       "      <th>plus_code</th>\n",
       "      <th>ground_height</th>\n",
       "      <th>building_height</th>\n",
       "      <th>roof_height</th>\n",
       "      <th>address</th>\n",
       "      <th>amenity</th>\n",
       "      <th>residential</th>\n",
       "      <th>bottom_roof_height</th>\n",
       "      <th>building:use</th>\n",
       "      <th>geometry</th>\n",
       "    </tr>\n",
       "  </thead>\n",
       "  <tbody>\n",
       "    <tr>\n",
       "      <th>656840974</th>\n",
       "      <td>656840974.0</td>\n",
       "      <td>house</td>\n",
       "      <td>1</td>\n",
       "      <td>C6XCX2X5+XGV</td>\n",
       "      <td>170.33</td>\n",
       "      <td>4.1</td>\n",
       "      <td>174.43</td>\n",
       "      <td>39 Dove Lane Mamre 7347 Cape Town</td>\n",
       "      <td>NaN</td>\n",
       "      <td>NaN</td>\n",
       "      <td>NaN</td>\n",
       "      <td>NaN</td>\n",
       "      <td>POLYGON ((264864.982 6288741.008, 264864.617 6...</td>\n",
       "    </tr>\n",
       "    <tr>\n",
       "      <th>656840975</th>\n",
       "      <td>656840975.0</td>\n",
       "      <td>house</td>\n",
       "      <td>1</td>\n",
       "      <td>C6XCXCXJ+XQX</td>\n",
       "      <td>169.70</td>\n",
       "      <td>4.1</td>\n",
       "      <td>173.80</td>\n",
       "      <td>37 Dove Lane Mamre 7347 Cape Town</td>\n",
       "      <td>NaN</td>\n",
       "      <td>NaN</td>\n",
       "      <td>NaN</td>\n",
       "      <td>NaN</td>\n",
       "      <td>POLYGON ((264865.350 6288749.141, 264865.026 6...</td>\n",
       "    </tr>\n",
       "  </tbody>\n",
       "</table>\n",
       "</div>"
      ],
      "text/plain": [
       "                osm_id  ...                                           geometry\n",
       "656840974  656840974.0  ...  POLYGON ((264864.982 6288741.008, 264864.617 6...\n",
       "656840975  656840975.0  ...  POLYGON ((264865.350 6288749.141, 264865.026 6...\n",
       "\n",
       "[2 rows x 13 columns]"
      ]
     },
     "execution_count": 10,
     "metadata": {},
     "output_type": "execute_result"
    }
   ],
   "source": [
    "#- some data wrangling to replace 'bld:residential' to 'bld:student' if 'residential:student'\n",
    "gdf2 = gdf_pop.copy()\n",
    "\n",
    "if 'residential' in gdf2.columns:\n",
    "    df_res = gdf2[gdf2['residential'] == 'student']\n",
    "    #df_res = df2[df2['building:use'] != None]\n",
    "    df_res = df_res[~df_res['residential'].isna()]\n",
    "    gdf_pop.loc[df_res.index, 'building'] = df_res['residential'] \n",
    "\n",
    "#- some more data wrangling\n",
    "with pd.option_context(\"future.no_silent_downcasting\", True):\n",
    "    if 'building:flats' in gdf_pop.columns: \n",
    "        gdf_pop['building:flats'] = pd.to_numeric(gdf_pop['building:flats'].fillna(0).infer_objects(copy=False))\n",
    "    if 'building:units' in gdf_pop.columns:    \n",
    "        gdf_pop['building:units'] = pd.to_numeric(gdf_pop['building:units'].fillna(0).infer_objects(copy=False))\n",
    "    if 'beds' in gdf_pop.columns:   \n",
    "        gdf_pop['beds'] = pd.to_numeric(gdf_pop['beds'].fillna(0).infer_objects(copy=False))\n",
    "    if 'rooms' in gdf_pop.columns:   \n",
    "        gdf_pop['rooms'] = pd.to_numeric(gdf_pop['rooms'].fillna(0).infer_objects(copy=False))\n",
    "\n",
    "gdf_pop[\"building:levels\"] = pd.to_numeric(gdf_pop[\"building:levels\"])\n",
    "\n",
    "gdf_pop.head(2)"
   ]
  },
  {
   "cell_type": "code",
   "execution_count": 11,
   "id": "68efc119-6ee7-4f26-9717-916dabe57874",
   "metadata": {},
   "outputs": [
    {
     "data": {
      "text/plain": [
       "building\n",
       "house    1626\n",
       "cabin     241\n",
       "Name: count, dtype: int64"
      ]
     },
     "execution_count": 11,
     "metadata": {},
     "output_type": "execute_result"
    }
   ],
   "source": [
    "gdf_pop['building'].value_counts()"
   ]
  },
  {
   "cell_type": "markdown",
   "id": "0af2ad75-60bf-49f7-986f-30a5d6d59bd6",
   "metadata": {},
   "source": [
    "**This area is urban with single level housing units. To estimate population is thus pretty straight forward.**\n",
    "\n",
    "<div class=\"alert alert-block alert-info\"><b>We start with local knowledge.</b></div>\n",
    "\n",
    "**On average there are roughly `6` people per `building:house` in this area.**  \n",
    "\n",
    "An ***informal*** structure ([shack](https://en.wikipedia.org/wiki/Shack)) is tagged [building:cabin](https://wiki.openstreetmap.org/wiki/Tag:building%3Dcabin) and houses `4` people."
   ]
  },
  {
   "cell_type": "markdown",
   "id": "83e4191e-2a53-4589-b123-c3096dfa85e6",
   "metadata": {},
   "source": [
    "<div class=\"alert alert-block alert-danger\"><b>Your Participation! </b>\n",
    "    \n",
    "\n",
    "We will execute the calculation programmatically. **Fill in the relevant variables in the _`cell`_ below** </div>"
   ]
  },
  {
   "cell_type": "code",
   "execution_count": 12,
   "id": "c148b87f-9d71-4cc8-8486-29f7b81c8def",
   "metadata": {},
   "outputs": [],
   "source": [
    "#- average number of residents per formal house\n",
    "f_house = 6\n",
    "#- average number of residents per informal structure\n",
    "inf_structure = 4"
   ]
  },
  {
   "cell_type": "markdown",
   "id": "d2a7b8f4",
   "metadata": {
    "id": "c162ade5"
   },
   "source": [
    "<div class=\"alert alert-block alert-warning\"><b></b>  \n",
    "    \n",
    "**Furthermore:**  \n",
    "    - **[social housing](https://en.wikipedia.org/wiki/Public_housing)** is tagged `building:residential` with the number of occupants iether *the number of informal structure occupants* or `building:flats * inf_structure`  \n",
    "    - A `social_facility` (carehome, shelter, etc.) harvests the `beds` *'key:value'* pair.  \n",
    "    - `building:apartment` harvests the `building:flats` *'key:value'* pair *(the number of units)* to calculate `*3` people per apartment.  \n",
    "    - ***Student accomodation***:  \n",
    ">    - University owed: is tagged `building:dormitory` with `residential:university` and harvests the `beds` *'key:value'* pair.\n",
    ">    - Private for-profit: is tagged `building:residential` or `:dormitory` with `residential:student` and then harvests the `building:flats` or `:rooms` *'key:value'* pair *(the number of units)* to calculate `*1` people per apartment; if `level: > 1` else `*3` people in a house share.\n",
    "    \n",
    "**The tagging scheme and numbers is based on *how your community is mapped* and local knowledge**\n",
    "</div>"
   ]
  },
  {
   "cell_type": "code",
   "execution_count": 13,
   "id": "4f626da0-d852-4414-b9de-077542e5a1ce",
   "metadata": {
    "scrolled": true
   },
   "outputs": [
    {
     "name": "stdout",
     "output_type": "stream",
     "text": [
      "The estimated population is: 10720\n"
     ]
    }
   ],
   "source": [
    "c = gdf_pop.columns\n",
    "\n",
    "def pop(row):\n",
    "    #- formal house\n",
    "    if row['building'] == 'house' or row['building'] == 'semidetached_house':\n",
    "        return f_house\n",
    "    if row['building'] == 'terrace' and 'building:units' in c:\n",
    "        return row['building:units'] * f_house\n",
    "\n",
    "    #- informal structure (shack)\n",
    "    if row['building'] == 'cabin':\n",
    "        return inf_structure\n",
    "\n",
    "    #- in this case social housing\n",
    "    if row['building'] == 'residential':\n",
    "        if 'social_facility' not in c:# and row['osm_social_facility'] is np.nan:# or row['building:use'] == 'residential':\n",
    "            if row['building:levels'] > 1:\n",
    "                return row['building:flats'] * inf_structure\n",
    "            else:\n",
    "                return inf_structure\n",
    "\n",
    "    #-- social facility [shelter / carehome]\n",
    "    if row['building'] == 'residential':\n",
    "        if 'social_facility' in c and row['social_facility'] is not np.nan:\n",
    "            if row['building:units'] != 0:\n",
    "                return row['building:units'] * inf_structure\n",
    "            else: \n",
    "                return row['beds']\n",
    "\n",
    "    #- formal apartment\n",
    "    if row['building'] == 'apartments':\n",
    "        return row['building:flats'] * 3\n",
    "        \n",
    "    #- private student residence \n",
    "    if row['building'] == 'student':\n",
    "        if row['building:levels'] > 1:\n",
    "            return row['building:flats']\n",
    "        else:\n",
    "            return 3\n",
    "            \n",
    "    # university owned student residence\n",
    "    if row['building'] == 'dormitory' and row['residential'] == 'university':\n",
    "        if row['building:levels'] > 1:\n",
    "            if 'rooms' in row and row['rooms'] != 0:\n",
    "                return row['rooms']\n",
    "            if 'beds' in row and row['beds'] != 0:\n",
    "                return row['beds']\n",
    "        else:\n",
    "            return 3\n",
    "\n",
    "gdf_pop['pop'] = gdf_pop.apply(lambda x: pop(x), axis=1)\n",
    "\n",
    "est_pop = gdf_pop['pop'].sum()\n",
    "print('The estimated population is:', est_pop)"
   ]
  },
  {
   "cell_type": "markdown",
   "id": "48fe80cb",
   "metadata": {
    "id": "01f52225"
   },
   "source": [
    "**The official [STATSSA 2011 census figure](https://www.statssa.gov.za/?page_id=4286&id=291), for this community, is 9048.**\n",
    "\n",
    "We can calculate the annual population growth rate using the formula for **[Annual population growth](https://databank.worldbank.org/metadataglossary/health-nutrition-and-population-statistics/series/SP.POP.GROW):**\n",
    "\n",
    "$$r = \\frac{\\ln{[\\frac{End Population}{Start Population}}]}{n} * 100 = \\frac{\\ln{[\\frac{10 730}{9048}}]}{12} * 100   = 1.42\\%$$"
   ]
  },
  {
   "cell_type": "markdown",
   "id": "9ae85954-dd0a-43e2-9160-d0f6285a6ad1",
   "metadata": {},
   "source": [
    "<div class=\"alert alert-block alert-danger\"><b>Your Participation! </b>\n",
    "    \n",
    "\n",
    "It is possible to execute the calculation programmatically. **Fill in the relevant variables in the _`cell`_ below** </div>"
   ]
  },
  {
   "cell_type": "code",
   "execution_count": 14,
   "id": "9b9ad2ea-894f-4549-904e-3c963f63c831",
   "metadata": {},
   "outputs": [],
   "source": [
    "#gdf_pop['pop'].unique()\n",
    "#df_res = gdf_pop[gdf_pop['pop'] == 3]\n",
    "#df_res"
   ]
  },
  {
   "cell_type": "code",
   "execution_count": 15,
   "id": "471c0219-00c6-4b06-a67c-b2cdf30df942",
   "metadata": {},
   "outputs": [],
   "source": [
    "#- previous population\n",
    "start_population = 9048\n",
    "\n",
    "#- period in years from the previous census\n",
    "years = 12"
   ]
  },
  {
   "cell_type": "code",
   "execution_count": 16,
   "id": "8efec5c3-9266-44f0-bc44-202b83ff6f2c",
   "metadata": {},
   "outputs": [
    {
     "name": "stdout",
     "output_type": "stream",
     "text": [
      "population growth rate of approximately: 1.41 %\n"
     ]
    }
   ],
   "source": [
    "#-execute\n",
    "r = (np.log(est_pop/start_population)/years) * 100\n",
    "print('population growth rate of approximately:', round(r, 2), '%')"
   ]
  },
  {
   "cell_type": "markdown",
   "id": "d77014f9-70da-4ebc-91e9-ea1888230ab8",
   "metadata": {},
   "source": [
    "To conclude; we can project into the future with a very basic formula to estimate the population _x_-years from now:  \n",
    "\n",
    "$$p  = P_o * (1 + r)^{t} = p = 10485 * (1 + 0.0142)^{10}  = 12 355$$"
   ]
  },
  {
   "cell_type": "markdown",
   "id": "fe147a37-0bf0-4a67-8e3f-0d7de83eae75",
   "metadata": {},
   "source": [
    "<div class=\"alert alert-block alert-danger\"><b>Your Participation! </b>\n",
    "    \n",
    "\n",
    "It is possible to execute the calculation programmatically. **Fill in the variables in the _`cell`_ below** </div>"
   ]
  },
  {
   "cell_type": "code",
   "execution_count": 17,
   "id": "bb306d3c-351c-45fb-b75c-f3831a676466",
   "metadata": {},
   "outputs": [],
   "source": [
    "#- period in years from now\n",
    "years = 10"
   ]
  },
  {
   "cell_type": "code",
   "execution_count": 18,
   "id": "34876cd3-8660-4971-a600-818d6aabd7dd",
   "metadata": {},
   "outputs": [
    {
     "name": "stdout",
     "output_type": "stream",
     "text": [
      "estimated population 10 years from now: 12334\n"
     ]
    }
   ],
   "source": [
    "p = est_pop * (1 + (r/100))**years\n",
    "\n",
    "print('estimated population', years ,'years from now:', int(p))"
   ]
  },
  {
   "cell_type": "markdown",
   "id": "a4946db7-90ad-46a7-8a0b-166f8d3694ca",
   "metadata": {},
   "source": [
    "<a id='Section1b'></a>"
   ]
  },
  {
   "cell_type": "markdown",
   "id": "954226c4",
   "metadata": {
    "id": "395e1ac4"
   },
   "source": [
    "<div class=\"alert alert-block alert-success\"><b>1. b) Building Volume Per Capita (BVPC):</b>  \n",
    "BVPC = total population of a community divided by sum of building volume</div>"
   ]
  },
  {
   "cell_type": "code",
   "execution_count": 19,
   "id": "538cc014-8002-4f1c-8b92-77890f4bed8c",
   "metadata": {},
   "outputs": [],
   "source": [
    "#gdf_pop.head(3)"
   ]
  },
  {
   "cell_type": "code",
   "execution_count": 20,
   "id": "94d28d52",
   "metadata": {
    "id": "d9a75295",
    "outputId": "a4db8ecc-c9b3-4ce1-f638-312b2e82006e"
   },
   "outputs": [
    {
     "data": {
      "text/html": [
       "<div>\n",
       "<style scoped>\n",
       "    .dataframe tbody tr th:only-of-type {\n",
       "        vertical-align: middle;\n",
       "    }\n",
       "\n",
       "    .dataframe tbody tr th {\n",
       "        vertical-align: top;\n",
       "    }\n",
       "\n",
       "    .dataframe thead th {\n",
       "        text-align: right;\n",
       "    }\n",
       "</style>\n",
       "<table border=\"1\" class=\"dataframe\">\n",
       "  <thead>\n",
       "    <tr style=\"text-align: right;\">\n",
       "      <th></th>\n",
       "      <th>osm_id</th>\n",
       "      <th>building</th>\n",
       "      <th>building:levels</th>\n",
       "      <th>plus_code</th>\n",
       "      <th>ground_height</th>\n",
       "      <th>building_height</th>\n",
       "      <th>roof_height</th>\n",
       "      <th>address</th>\n",
       "      <th>amenity</th>\n",
       "      <th>residential</th>\n",
       "      <th>bottom_roof_height</th>\n",
       "      <th>building:use</th>\n",
       "      <th>geometry</th>\n",
       "      <th>pop</th>\n",
       "      <th>area</th>\n",
       "      <th>volume</th>\n",
       "      <th>bvpc</th>\n",
       "    </tr>\n",
       "  </thead>\n",
       "  <tbody>\n",
       "    <tr>\n",
       "      <th>12289266</th>\n",
       "      <td>12289266.0</td>\n",
       "      <td>house</td>\n",
       "      <td>1</td>\n",
       "      <td>CCX5X6XM+X5X</td>\n",
       "      <td>185.75</td>\n",
       "      <td>4.1</td>\n",
       "      <td>189.85</td>\n",
       "      <td>22 Clarkeson Street Mamre 7347 Cape Town</td>\n",
       "      <td>NaN</td>\n",
       "      <td>NaN</td>\n",
       "      <td>NaN</td>\n",
       "      <td>NaN</td>\n",
       "      <td>POLYGON ((265305.077 6288750.422, 265302.872 6...</td>\n",
       "      <td>6</td>\n",
       "      <td>344.679759</td>\n",
       "      <td>1413.187012</td>\n",
       "      <td>235.531169</td>\n",
       "    </tr>\n",
       "    <tr>\n",
       "      <th>12357148</th>\n",
       "      <td>12357148.0</td>\n",
       "      <td>house</td>\n",
       "      <td>1</td>\n",
       "      <td>C8XXXCX5+XQR</td>\n",
       "      <td>193.26</td>\n",
       "      <td>4.1</td>\n",
       "      <td>197.36</td>\n",
       "      <td>2 Tol Street Mamre 7347 Cape Town</td>\n",
       "      <td>NaN</td>\n",
       "      <td>NaN</td>\n",
       "      <td>NaN</td>\n",
       "      <td>NaN</td>\n",
       "      <td>POLYGON ((266000.758 6288992.653, 265989.649 6...</td>\n",
       "      <td>6</td>\n",
       "      <td>329.618113</td>\n",
       "      <td>1351.434264</td>\n",
       "      <td>225.239044</td>\n",
       "    </tr>\n",
       "  </tbody>\n",
       "</table>\n",
       "</div>"
      ],
      "text/plain": [
       "              osm_id building  ...       volume        bvpc\n",
       "12289266  12289266.0    house  ...  1413.187012  235.531169\n",
       "12357148  12357148.0    house  ...  1351.434264  225.239044\n",
       "\n",
       "[2 rows x 17 columns]"
      ]
     },
     "execution_count": 20,
     "metadata": {},
     "output_type": "execute_result"
    }
   ],
   "source": [
    "gdf_pop['area'] = gdf_pop['geometry'].area#\\.map(lambda p: p.area)\n",
    "gdf_pop['volume'] = gdf_pop['area'] * gdf_pop['building_height']\n",
    "gdf_pop['bvpc'] =  gdf_pop['volume'] / gdf_pop['pop']\n",
    "\n",
    "gdf_pop.tail(2)"
   ]
  },
  {
   "cell_type": "code",
   "execution_count": 21,
   "id": "ce47ce5e",
   "metadata": {
    "id": "6d44d125",
    "outputId": "2d3355f4-5870-492a-d2db-4ad3a7dfedc8"
   },
   "outputs": [
    {
     "name": "stdout",
     "output_type": "stream",
     "text": [
      "count    1867.000000\n",
      "mean       77.848128\n",
      "std        50.589758\n",
      "min        11.821442\n",
      "25%        36.757623\n",
      "50%        68.304344\n",
      "75%       104.507158\n",
      "max       400.313316\n",
      "Name: bvpc, dtype: float64\n"
     ]
    }
   ],
   "source": [
    "print(gdf_pop['bvpc'].describe())"
   ]
  },
  {
   "cell_type": "code",
   "execution_count": 22,
   "id": "e0abe768",
   "metadata": {
    "id": "c98dafa0",
    "outputId": "d2b038a0-fddb-4fae-9b34-ad020453140d"
   },
   "outputs": [
    {
     "name": "stdout",
     "output_type": "stream",
     "text": [
      "Building Volume Per Capita (BVPC): 79.446\n"
     ]
    }
   ],
   "source": [
    "bvpc = round(gdf_pop['volume'].sum() / est_pop, 3)\n",
    "\n",
    "print('Building Volume Per Capita (BVPC):', bvpc)"
   ]
  },
  {
   "cell_type": "markdown",
   "id": "05e8659c",
   "metadata": {
    "id": "f6576dc6"
   },
   "source": [
    "<div class=\"alert alert-block alert-info\"><b></b>\n",
    "\n",
    "**This BVPC value is general.**  \n",
    "\n",
    "We can seperate `building:house` from `building:cabin` and `building:residential` to undertand the differences between ***formal and informal*** housing in this area.\n",
    "    \n",
    "**We want to understand the living space *(the cubic-meter BVPC value)* each person has in thier home**\n",
    "</div>"
   ]
  },
  {
   "cell_type": "code",
   "execution_count": 23,
   "id": "5007fded-ae76-4431-8035-5b9d48aad0f5",
   "metadata": {},
   "outputs": [],
   "source": [
    "#gdf_pop[[\"osm_address\", \"osm_building:levels\", \"osm_beds\", \"bvpc\"]]\n",
    "#informal"
   ]
  },
  {
   "cell_type": "code",
   "execution_count": 31,
   "id": "29ac68f3-d8ec-4e78-82ba-746d8f050033",
   "metadata": {},
   "outputs": [
    {
     "name": "stdout",
     "output_type": "stream",
     "text": [
      "FORMAL: Population:  9756  with Building Volume Per Capita (BVPC): 83.116\n",
      "\n",
      "STUDENT RESIDENCE: Population:  0  with Building Volume Per Capita (BVPC): 0\n",
      "\n",
      "INFORMAL: Population:  964  with Building Volume Per Capita (BVPC) 42.309\n"
     ]
    }
   ],
   "source": [
    "formal = gdf_pop[gdf_pop[\"building\"].isin(['house', 'semidetached_house', 'terrace', 'apartment'])].copy()\n",
    "f_pop = formal['pop'].sum()\n",
    "#f_area = formal['area'].mean()\n",
    "\n",
    "informal = gdf_pop[gdf_pop[\"building\"].isin(['residential', 'cabin'])].copy()\n",
    "inf_pop = informal['pop'].sum()\n",
    "#inf_area = formal['area'].mean()\n",
    "\n",
    "#- student\n",
    "stu = gdf_pop[gdf_pop[\"building\"].isin(['student', 'dormitory'])].copy()\n",
    "stu_pop = stu['pop'].sum()\n",
    "\n",
    "#bvpc_formal = round(formal['volume'].sum() / est_pop, 3)\n",
    "#bvpc_informal = round(informal['volume'].sum() / est_pop, 3)\n",
    "#bvpc_stu = round(stu['volume'].sum() / est_pop, 3)\n",
    "\n",
    "bvpc_formal = round(formal['volume'].sum() / formal['pop'].sum()if formal['pop'].sum() != 0 else 0, 3)\n",
    "bvpc_informal = round(informal['volume'].sum() / informal['pop'].sum() if informal['pop'].sum() != 0 else 0, 3)\n",
    "bvpc_stu = round(stu['volume'].sum() / stu['pop'].sum() if stu['pop'].sum() != 0 else 0, 3)\n",
    "\n",
    "print('FORMAL: Population: ', f_pop, ' with Building Volume Per Capita (BVPC):', bvpc_formal)\n",
    "print('')\n",
    "print('STUDENT RESIDENCE: Population: ', stu_pop, ' with Building Volume Per Capita (BVPC):', bvpc_stu)\n",
    "print('')\n",
    "print('INFORMAL: Population: ', inf_pop, ' with Building Volume Per Capita (BVPC)', bvpc_informal)"
   ]
  },
  {
   "cell_type": "markdown",
   "id": "e2d29b09-6b5e-481d-a208-52bb27dea51c",
   "metadata": {},
   "source": [
    "<div class=\"alert alert-block alert-danger\"><b>Warning: </b>\n",
    "    \n",
    "\n",
    "These are LoD1 3D City Models and works well in these types of areas.  \n",
    "LoD2 would offer a more representative BVpC [(Ghosh, T; et al. 2020)](https://www.researchgate.net/publication/343185735_Building_Volume_Per_Capita_BVPC_A_Spatially_Explicit_Measure_of_Inequality_Relevant_to_the_SDGs) value; when the complexity of the built environment increases.  \n",
    "\n",
    "Think about a `house` with living space in the roof structure, so called *'attic living'*, or an `apartment` / `residential` building with different levels, loft apartments and/or units in the turrets of a `building`. \n",
    "\n",
    "***consider***: this area seperates [building:cabin](https://wiki.openstreetmap.org/wiki/Tag:building%3Dcabin) from `building:residential` to more precisely represent informal structures without typical roof trussess but account for [social housing](https://en.wikipedia.org/wiki/Public_housing) that does</div>"
   ]
  },
  {
   "cell_type": "markdown",
   "id": "195a861f-42ea-40c7-b4e8-e5cae2ee400b",
   "metadata": {},
   "source": [
    "<div class=\"alert alert-block alert-warning\"><b>  </b>  \n",
    "    \n",
    "**To understand the performance in an [Urban setting](https://en.wikipedia.org/wiki/Urban_area) change `cell [2]` above:**\n",
    "\n",
    "<span style=\"color:black\">**jparams**</span> = <span style=\"color:Darkred\">osm3DUEstate</span> <span style=\"color:black\">(['University Estate'](https://en.wikipedia.org/wiki/University_Estate)) or</span> <span style=\"color:Darkred\">osm3DsRiver</span>  <span style=\"color:black\">(['Salt River'](https://en.wikipedia.org/wiki/Salt_River,_Cape_Town)) or</span> <span style=\"color:Darkred\">osm3Dobs</span> <span style=\"color:black\">(['Observatory'](https://en.wikipedia.org/wiki/Observatory,_Cape_Town)) *(with residents per formal house = 4 and residents per informal structure = 3)*</span> <span style=\"color:black\">and</span>  <span style=\"color:Darkred\">osm3DCPUT</span> <span style=\"color:black\">('Cape Peninsula University of Technology (Bellville Campus))'</span>       \n",
    "</div>"
   ]
  },
  {
   "cell_type": "markdown",
   "id": "27182d11-187e-4763-87af-0e9113cd8836",
   "metadata": {},
   "source": [
    "<a id='Section2'></a>"
   ]
  },
  {
   "cell_type": "markdown",
   "id": "bbb64ecc",
   "metadata": {
    "id": "c0daa088"
   },
   "source": [
    "## 2. Interactive Visualization\n",
    "\n",
    "You might want to create and share an `html` visualization.\n",
    "\n",
    "<div class=\"alert alert-block alert-warning\"><b> </b>  \n",
    "    \n",
    "_In this example we identify building stock by **color** but you are limited only through your imagination and the data you have access too_\n",
    "</div>"
   ]
  },
  {
   "cell_type": "code",
   "execution_count": 25,
   "id": "48b114d1",
   "metadata": {},
   "outputs": [],
   "source": [
    "#- pydeck needs geographic coords\n",
    "gdf = gdf.to_crs(4326)"
   ]
  },
  {
   "cell_type": "code",
   "execution_count": 26,
   "id": "ebffd46f",
   "metadata": {},
   "outputs": [],
   "source": [
    "# -- get the location for pydeck\n",
    "with warnings.catch_warnings():\n",
    "    warnings.simplefilter('ignore')\n",
    "    [xy] = gdf.dissolve().centroid\n",
    "\n",
    "bbox = [gdf.total_bounds[0], gdf.total_bounds[1], \n",
    "        gdf.total_bounds[2], gdf.total_bounds[3]]"
   ]
  },
  {
   "cell_type": "code",
   "execution_count": 27,
   "id": "6d620069",
   "metadata": {},
   "outputs": [
    {
     "data": {
      "text/plain": [
       "array(['yes', 'church', 'house', 'public', 'civic', 'office', 'retail',\n",
       "       'clinic', 'school', 'cabin', 'garage', 'greenhouse', 'roof',\n",
       "       'clubhouse', 'service', 'detached', 'shed'], dtype=object)"
      ]
     },
     "execution_count": 27,
     "metadata": {},
     "output_type": "execute_result"
    }
   ],
   "source": [
    "# have a look at the building type and amenities available\n",
    "gdf['building'].unique()"
   ]
  },
  {
   "cell_type": "markdown",
   "id": "95db7a64-6670-4b1d-86ae-a1476ef72f78",
   "metadata": {},
   "source": [
    "<a id='Section2a'></a>\n",
    "<div class=\"alert alert-block alert-success\"><b>Building Stock:</b> To differentiate a school, housing, retail, healthcare and community focused facilities (library, municipal office, community centre) we color the buildings - we harvest the osm tags [amenity and building type] directly.</div>"
   ]
  },
  {
   "cell_type": "code",
   "execution_count": 28,
   "id": "f777c749",
   "metadata": {},
   "outputs": [],
   "source": [
    "# colour buildings based on use / amenity\n",
    "def color(bld):\n",
    "    #- formal house\n",
    "    if bld == 'house' or bld == 'semidetached_house' or bld == 'terrace': #- add maisonette, duplex, etc. \n",
    "        return [255, 255, 204]                        #-grey\n",
    "    if bld == 'apartments':\n",
    "        return [252, 194, 3]                          #-orange \n",
    "    #- informal structure / social housing / student\n",
    "    if bld == 'residential' or bld == 'dormitory' or bld == 'cabin':\n",
    "        return [119, 3, 252]                          #-purple\n",
    "        \n",
    "    if bld == 'garage' or bld == 'parking':\n",
    "        return [3, 132, 252]                          #-blue        \n",
    "    if bld == 'retail' or bld == 'supermarket':\n",
    "        return [253, 141, 60]\n",
    "    if bld == 'office' or bld == 'commercial':\n",
    "        return [185, 206, 37]\n",
    "    if bld == 'school' or bld == 'kindergarten' or bld == 'university' or bld == 'college':\n",
    "        return [128, 0, 38]\n",
    "    if bld == 'clinic' or bld == 'doctors' or bld == 'hospital':\n",
    "        return [89, 182, 178]\n",
    "    if bld == 'community_centre' or bld == 'service' or bld == 'post_office' or bld == 'hall' \\\n",
    "    or bld ==  'townhall' or bld == 'police' or bld == 'library' or bld == 'fire_station' :\n",
    "        return [181, 182, 89]\n",
    "    if bld == 'warehouse' or bld == 'industrial':\n",
    "        return [193, 255, 193]\n",
    "    if bld == 'hotel':\n",
    "        return [139, 117, 0]\n",
    "    if bld == 'church' or bld == 'mosque' or bld == 'synagogue':\n",
    "        return [225, 225, 51]\n",
    "    else:\n",
    "        return [255, 255, 204]\n",
    "\n",
    "gdf[\"fill_color\"] = gdf['building'].apply(lambda x: color(x))"
   ]
  },
  {
   "cell_type": "code",
   "execution_count": 29,
   "id": "5e88b1da",
   "metadata": {},
   "outputs": [
    {
     "data": {
      "text/html": [
       "<div>\n",
       "<style scoped>\n",
       "    .dataframe tbody tr th:only-of-type {\n",
       "        vertical-align: middle;\n",
       "    }\n",
       "\n",
       "    .dataframe tbody tr th {\n",
       "        vertical-align: top;\n",
       "    }\n",
       "\n",
       "    .dataframe thead th {\n",
       "        text-align: right;\n",
       "    }\n",
       "</style>\n",
       "<table border=\"1\" class=\"dataframe\">\n",
       "  <thead>\n",
       "    <tr style=\"text-align: right;\">\n",
       "      <th></th>\n",
       "      <th>osm_id</th>\n",
       "      <th>building</th>\n",
       "      <th>building:levels</th>\n",
       "      <th>plus_code</th>\n",
       "      <th>ground_height</th>\n",
       "      <th>building_height</th>\n",
       "      <th>roof_height</th>\n",
       "      <th>address</th>\n",
       "      <th>amenity</th>\n",
       "      <th>residential</th>\n",
       "      <th>bottom_roof_height</th>\n",
       "      <th>building:use</th>\n",
       "      <th>geometry</th>\n",
       "      <th>fill_color</th>\n",
       "    </tr>\n",
       "  </thead>\n",
       "  <tbody>\n",
       "    <tr>\n",
       "      <th>328118446</th>\n",
       "      <td>328118446.0</td>\n",
       "      <td>yes</td>\n",
       "      <td>1</td>\n",
       "      <td>CMXPX3XW+XQR</td>\n",
       "      <td>179.43</td>\n",
       "      <td>4.1</td>\n",
       "      <td>183.53</td>\n",
       "      <td>NaN</td>\n",
       "      <td>NaN</td>\n",
       "      <td>NaN</td>\n",
       "      <td>NaN</td>\n",
       "      <td>NaN</td>\n",
       "      <td>POLYGON ((18.47060 -33.50579, 18.47070 -33.505...</td>\n",
       "      <td>[255, 255, 204]</td>\n",
       "    </tr>\n",
       "    <tr>\n",
       "      <th>328118447</th>\n",
       "      <td>328118447.0</td>\n",
       "      <td>church</td>\n",
       "      <td>2</td>\n",
       "      <td>CPXWXXX3+XFX</td>\n",
       "      <td>179.04</td>\n",
       "      <td>6.9</td>\n",
       "      <td>185.94</td>\n",
       "      <td>Kerk Street Mamre 7347 Cape Town</td>\n",
       "      <td>place_of_worship</td>\n",
       "      <td>NaN</td>\n",
       "      <td>NaN</td>\n",
       "      <td>NaN</td>\n",
       "      <td>POLYGON ((18.47092 -33.50592, 18.47093 -33.505...</td>\n",
       "      <td>[225, 225, 51]</td>\n",
       "    </tr>\n",
       "  </tbody>\n",
       "</table>\n",
       "</div>"
      ],
      "text/plain": [
       "                osm_id  ...       fill_color\n",
       "328118446  328118446.0  ...  [255, 255, 204]\n",
       "328118447  328118447.0  ...   [225, 225, 51]\n",
       "\n",
       "[2 rows x 14 columns]"
      ]
     },
     "execution_count": 29,
     "metadata": {},
     "output_type": "execute_result"
    }
   ],
   "source": [
    "#- look\n",
    "gdf.head(2)"
   ]
  },
  {
   "cell_type": "code",
   "execution_count": null,
   "id": "953ef059",
   "metadata": {},
   "outputs": [],
   "source": [
    "## ~ (x, y) - bl, tl, tr, br  ~~ or ~~ sw, nw, ne, se\n",
    "#area = [[[18.4377, -33.9307], [18.4377, -33.9283], [18.4418, -33.9283], [18.4418, -33.9307]]]\n",
    "area = [[[bbox[0], bbox[1]], [bbox[0], bbox[3]], \n",
    "         [bbox[2], bbox[3]], [bbox[2], bbox[1]]]]\n",
    "\n",
    "## ~ (y, x)\n",
    "view_state = pdk.ViewState(latitude=xy.y, longitude=xy.x, zoom=16.5, max_zoom=19, pitch=72, \n",
    "                                   bearing=80)\n",
    "\n",
    "land = pdk.Layer(\n",
    "    \"PolygonLayer\",\n",
    "    area,\n",
    "    stroked=False,\n",
    "    # processes the data as a flat longitude-latitude pair\n",
    "    get_polygon=\"-\",\n",
    "    get_fill_color=[0, 0, 0, 1],\n",
    "    #material = True,\n",
    "    #shadowEnabled = True\n",
    ")\n",
    "building_layer = pdk.Layer(\n",
    "    \"PolygonLayer\",\n",
    "    gdf,\n",
    "    #id=\"geojson\",\n",
    "    opacity=0.3,\n",
    "    stroked=False,\n",
    "    get_polygon=\"geometry.coordinates\",\n",
    "    filled=True,\n",
    "    extruded=True,\n",
    "    wireframe=False,\n",
    "    get_elevation=\"building_height\",\n",
    "    #get_fill_color=\"[255, 255, 255]\", #255, 255, 255\n",
    "    get_fill_color=\"fill_color\",\n",
    "    get_line_color=\"fill_color\",#[255, 255, 255],\n",
    "    #material = True, \n",
    "    #shadowEnabled = True, \n",
    "    auto_highlight=True,\n",
    "    pickable=True,\n",
    ")\n",
    "\n",
    "tooltip = {\"html\": \"<b>Levels:</b> {building:levels} <br/> <b>Address:</b> {address}\\\n",
    "<br/> <b>Plus Code:</b> {plus_code} <br/> <b>Building Type:</b> {building}\"}\n",
    "\n",
    "#change the tooltip to show bus routes and comment out the previous\n",
    "#tooltip = {\"html\": \"<b>Route:</b> {name} <br/>\"}\n",
    "\n",
    "r = pdk.Deck(layers=[land,  building_layer],#, greenspaces_layer, p_layer, water_layer, r_layer], #\n",
    "             #views=[{\"@@type\": \"MapView\", \"controller\": True}],\n",
    "             initial_view_state=view_state,\n",
    "             map_style = 'dark_no_labels', #pdk.map_styles.LIGHT,\n",
    "             tooltip=tooltip)\n",
    "#save\n",
    "r.to_html(\"./result/interactiveOnly.html\")"
   ]
  },
  {
   "cell_type": "markdown",
   "id": "7addad28",
   "metadata": {},
   "source": [
    "**on a laptop without a mouse:**\n",
    "\n",
    "- `trackpad left-click drag-left` and `-right`;\n",
    "- `Ctrl left-click drag-up`, `-down`, `-left` and `-right` to rotate and so-on and\n",
    "- `+` next to Backspace zoom-in and `-` next to `+` zoom-out.\n",
    "\n",
    "**Now you do your community.** ~ If your area needs [OpenStreetMap](https://en.wikipedia.org/wiki/OpenStreetMap)  data and you want to contribute please follow the [Guide](https://wiki.openstreetmap.org/wiki/Beginners%27_guide)."
   ]
  },
  {
   "cell_type": "markdown",
   "id": "46520c64-812d-43d8-8733-a2c2a8a5f724",
   "metadata": {},
   "source": [
    "<a id='Section3'></a>"
   ]
  },
  {
   "cell_type": "markdown",
   "id": "b3d0d0d0-8712-4f5a-a992-5e6d7a9e741d",
   "metadata": {},
   "source": [
    "<div class=\"alert alert-block alert-success\"><b>3. Possible Secondary and Tertiary level conversations starters:</b></div>"
   ]
  },
  {
   "cell_type": "markdown",
   "id": "e82860fd-6821-44b8-b3e3-1d5ddddc94c8",
   "metadata": {},
   "source": [
    "| **Topic**                                | **Secondary Level Questions**                                                                                                                                                                                   | **Tertiary Level Questions**                                                                                                                                                                                                                   |\n",
    "|------------------------------------------|-----------------------------------------------------------------------------------------------------------------------------------------------------------------------------------------------------------------|--------------------------------------------------------------------------------------------------------------------------------------------------------------------------------------------------------------------------------------------------|\n",
    "| **Basic Understanding and Observations** | - What types of buildings are most common in the area (houses, apartments, retail, etc.)?<br>- Can you identify any patterns in the distribution of different types of buildings (e.g., are retail stores concentrated in certain areas)? | - How does the building stock composition (e.g., ratio of houses) correlate with the population? *demographics (e.g., age distribution, household size) for the area will strengthen the analysis!* <br>- Analyze the relationship between building density and population. What urban planning theories can explain this relationship? |\n",
    "| **Spatial Relationships and Impacts**    | - How does the location of residential areas compare to the location of retail and commercial areas?<br>- What impact might the density and distribution of buildings have on local traffic and transportation?<br>- How might the population distribution affect the demand for local services such as schools, hospitals, and parks? | - Evaluate the accessibility of essential services (e.g., healthcare, education) in relation to the population and building types.<br>- Assess the potential social and economic impacts of a proposed new residential or commercial development in the area.                  |\n",
    "| **Socioeconomic and Environmental Considerations** | - Are there any correlations between the types of housing available and the household size? *additional demographics (e.g., income level) for the area will strengthen the analysis!*<br>- How might the current building stock and population influence the local economy? *demographics (e.g., age distribution, household size) for the area will strengthen the analysis!*<br>- What are some potential environmental impacts of the current building distribution, such as green space availability or pollution levels? | - How does the current building stock support or hinder sustainable development goals (e.g., energy efficiency, reduced carbon footprint)?<br>- What strategies could be implemented to increase the resilience of the community to environmental or economic changes?                       |\n",
    "| **Future Planning and Development**      | - Based on the current building stock and population metrics, what areas might benefit from additional housing or commercial development?<br>- How could urban planners use this information to improve the quality of life in the area?<br>- What changes would you recommend to better balance residential, commercial, and recreational spaces? | - How might different zoning regulations impact the distribution of residential, commercial, and industrial buildings in the future?<br>- Propose urban design solutions that could improve the sustainability and livability of the area, considering both current metrics and future projections. |\n",
    "| **Quantitative and Qualitative Research** | |- Design a research study to investigate the impact of building type diversity on community wellbeing. What methodologies would you use?<br>- Analyze historical data to understand trends in building development and population growth. How have these trends shaped the current urban landscape?<br>- Conduct a SWOT analysis (Strengths, Weaknesses, Opportunities, Threats) of the area based on the building stock and population metrics. |"
   ]
  },
  {
   "cell_type": "code",
   "execution_count": null,
   "id": "a4bc7dd2-dd21-4a75-ade3-e4c09bff7613",
   "metadata": {},
   "outputs": [],
   "source": []
  }
 ],
 "metadata": {
  "colab": {
   "provenance": []
  },
  "kernelspec": {
   "display_name": "Python 3 (Spyder)",
   "language": "python3",
   "name": "python3"
  },
  "language_info": {
   "codemirror_mode": {
    "name": "ipython",
    "version": 3
   },
   "file_extension": ".py",
   "mimetype": "text/x-python",
   "name": "python",
   "nbconvert_exporter": "python",
   "pygments_lexer": "ipython3",
   "version": "3.9.19"
  }
 },
 "nbformat": 4,
 "nbformat_minor": 5
}
